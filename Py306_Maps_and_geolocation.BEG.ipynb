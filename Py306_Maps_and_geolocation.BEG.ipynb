{
 "cells": [
  {
   "cell_type": "markdown",
   "metadata": {
    "id": "cB9y_hilwnN4"
   },
   "source": [
    "---\n",
    "# Drawing maps\n",
    "---\n",
    "Here we will draw maps given a set of coordinates, using free services, and in several different styles. We will also use geolocation to find coordinates given the name of a place."
   ]
  },
  {
   "cell_type": "markdown",
   "metadata": {
    "id": "F8ix7sQ1xAKC"
   },
   "source": [
    "## Import libraries"
   ]
  },
  {
   "cell_type": "markdown",
   "metadata": {},
   "source": [
    "Install them if necessary:"
   ]
  },
  {
   "cell_type": "code",
   "execution_count": null,
   "metadata": {},
   "outputs": [],
   "source": []
  },
  {
   "cell_type": "markdown",
   "metadata": {},
   "source": [
    "Now import:"
   ]
  },
  {
   "cell_type": "code",
   "execution_count": null,
   "metadata": {
    "id": "NBEUBV1ew_fk"
   },
   "outputs": [],
   "source": []
  },
  {
   "cell_type": "markdown",
   "metadata": {},
   "source": []
  },
  {
   "cell_type": "code",
   "execution_count": null,
   "metadata": {},
   "outputs": [],
   "source": []
  },
  {
   "cell_type": "markdown",
   "metadata": {},
   "source": [
    "## Plot a zoomable USGS-based map with Plotly"
   ]
  },
  {
   "cell_type": "code",
   "execution_count": null,
   "metadata": {},
   "outputs": [],
   "source": []
  },
  {
   "cell_type": "markdown",
   "metadata": {},
   "source": [
    "## Open Street Maps"
   ]
  },
  {
   "cell_type": "code",
   "execution_count": null,
   "metadata": {},
   "outputs": [],
   "source": []
  },
  {
   "cell_type": "markdown",
   "metadata": {},
   "source": [
    "### Using the `stamen-terrain` variation"
   ]
  },
  {
   "cell_type": "code",
   "execution_count": null,
   "metadata": {},
   "outputs": [],
   "source": []
  },
  {
   "cell_type": "markdown",
   "metadata": {
    "id": "TMpI9OGukDAj"
   },
   "source": [
    "## Export the plotly map to an HTML file"
   ]
  },
  {
   "cell_type": "code",
   "execution_count": null,
   "metadata": {
    "id": "hOacVMqxkC0k"
   },
   "outputs": [],
   "source": []
  },
  {
   "cell_type": "markdown",
   "metadata": {},
   "source": [
    "Note: exporting a Plotly map to PNG is a lot more difficult, and I do not cover it here (yet)."
   ]
  },
  {
   "cell_type": "markdown",
   "metadata": {},
   "source": [
    "# Static maps using Matplotlib & Cartopy"
   ]
  },
  {
   "cell_type": "markdown",
   "metadata": {},
   "source": [
    "## Add layers to a basic map\n",
    "Different layers can be added with `add_feature`. Below, we add `LAND` and `OCEAN`."
   ]
  },
  {
   "cell_type": "code",
   "execution_count": null,
   "metadata": {
    "scrolled": true
   },
   "outputs": [],
   "source": []
  },
  {
   "cell_type": "markdown",
   "metadata": {},
   "source": [
    "---\n",
    "Not super pretty, but it works."
   ]
  },
  {
   "cell_type": "markdown",
   "metadata": {},
   "source": [
    "### A natural-surface style"
   ]
  },
  {
   "cell_type": "code",
   "execution_count": null,
   "metadata": {},
   "outputs": [],
   "source": []
  },
  {
   "cell_type": "markdown",
   "metadata": {},
   "source": [
    "This looks very nice for continental distances, but if we try to use it for a dataset of nearby points like the one for NYC that we made above, it pixelates so horrendously it becomes useless:"
   ]
  },
  {
   "cell_type": "code",
   "execution_count": null,
   "metadata": {},
   "outputs": [],
   "source": []
  },
  {
   "cell_type": "markdown",
   "metadata": {},
   "source": [
    "With this kind of distance, this map style is not useful. We could try to zoom out by changing the x and y limits, but then we lose the points we were trying to observe:"
   ]
  },
  {
   "cell_type": "code",
   "execution_count": null,
   "metadata": {},
   "outputs": [],
   "source": []
  },
  {
   "cell_type": "markdown",
   "metadata": {},
   "source": [
    "P.S.: Pandas provides much more efficient ways of plotting the points than the `for` loop used above, but this is not a tutorial about Pandas."
   ]
  },
  {
   "cell_type": "markdown",
   "metadata": {},
   "source": [
    "## Finding locations by name with a geocoder\n",
    "Just like map providers, there are also many geolocators. You're no doubt familiar with Google Maps. We could access their geolocation system through Python but, unlike the on the Google Maps website, the programmatic one isn't free. There are options, however.\n",
    "\n",
    "We imported geopy above, which has a geocoder called `Nominatim` that can find locations by name.\n",
    "\n",
    "Let's try it with a few trivial and less-than-trivial names:\n",
    "+ `Caracas`, `Antananarivo` and `Jakarta` should be easy, as there's only one major one of each those.\n",
    "+ `Nueva York` is not written in English. Can the system find it?\n",
    "+ `Minga` is the name given to Munich only in the local Bavarian dialect, and even most Germans don't know that; let's see how the searcher fares.\n",
    "+ There are obvious choices for `Rome`, `Wellington` and `Manchester` in Italy, New Zealand and England, but there are several identically named cities across North America; let's see if the geolocator gets confused.\n",
    "+ `Springfield` is a bit of a mean one, since there is at least one of those in every state of the USA, plus several more in the UK, Canada and Australia. Which one will the system pick?\n",
    "+ `The Big Easy` is a nickname often given to New Orleans. Let's see if the system picks it up.\n",
    "+ `Taj Mahal`, `Maracana` and `The Great Sphinx` are not cities, but they are famous landmarks that should, at least in principle, be easy to find."
   ]
  },
  {
   "cell_type": "code",
   "execution_count": null,
   "metadata": {},
   "outputs": [],
   "source": []
  },
  {
   "cell_type": "markdown",
   "metadata": {},
   "source": [
    "---\n",
    "Mostly great in my case, except for `The Big Easy` and `The Great Sphinx`, which were complete failures (it may be different when you run it). We should probably go back and fix those (e.g., add \"`of Giza`\" to the sphinx). Note also that the `Springfield` in Illinois was favoured by the geolocator, which perhaps makes sense as that one is a State capital.\n",
    "\n",
    "In fact, we have the coordinates:"
   ]
  },
  {
   "cell_type": "code",
   "execution_count": null,
   "metadata": {},
   "outputs": [],
   "source": []
  },
  {
   "cell_type": "markdown",
   "metadata": {},
   "source": [
    "This would be a much better use case for our nice National-Geographic-looking map:"
   ]
  },
  {
   "cell_type": "code",
   "execution_count": null,
   "metadata": {},
   "outputs": [],
   "source": []
  },
  {
   "cell_type": "markdown",
   "metadata": {},
   "source": [
    "Well, the positioning and sizing of the texts will need some work, but this is not a mabplotlib tutorial, so this will do for now. Also remember that we need to fix the Sphinx and New Orleans, both of which are utterly wrong."
   ]
  }
 ],
 "metadata": {
  "colab": {
   "name": "Plotly.ipynb",
   "provenance": [],
   "toc_visible": true
  },
  "kernelspec": {
   "display_name": "Python 3 (ipykernel)",
   "language": "python",
   "name": "python3"
  },
  "language_info": {
   "codemirror_mode": {
    "name": "ipython",
    "version": 3
   },
   "file_extension": ".py",
   "mimetype": "text/x-python",
   "name": "python",
   "nbconvert_exporter": "python",
   "pygments_lexer": "ipython3",
   "version": "3.9.6"
  }
 },
 "nbformat": 4,
 "nbformat_minor": 1
}
