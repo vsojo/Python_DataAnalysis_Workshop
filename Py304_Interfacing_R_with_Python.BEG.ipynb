{
 "cells": [
  {
   "cell_type": "markdown",
   "metadata": {},
   "source": [
    "# Interfacing R with Python\n",
    "(Víctor Sojo | vsojo@amnh.org)\n",
    "\n",
    "In this notebook we will:\n",
    "+ Run both Python and R code inside the same Jupyter Notebook.\n",
    "+ Share data between R and Python.\n",
    "+ Plug Pandas to R, and vice versa.\n",
    "\n",
    "**References:**\n",
    "+ The [`r2py` tutorial](https://matplotlib.org/3.1.1/tutorials/introductory/pyplot.html).\n",
    "+ Tiago Antao's book [_Bioinformatics with Python Cookbook_](https://www.packtpub.com/product/bioinformatics-with-python-cookbook-second-edition/9781789344691), which I highly recommend. You may be able to access it for free from your library (e.g., Columbia University has it in digital for free)."
   ]
  },
  {
   "cell_type": "markdown",
   "metadata": {},
   "source": [
    "## Contents\n",
    "&emsp;[Foreword - Should I use R or Python? ... Yes ☺️](#Foreword---Should-I-use-R-or-Python?-...-Yes-☺️)<br/>\n",
    "&emsp;[Getting started](#Getting-started)<br/>\n",
    "&emsp;&emsp;[Installing rpy2  \\(the interfacer between R and Python\\) and r-essentials](#Installing-rpy2--\\(the-interfacer-between-R-and-Python\\)-and-r-essentials)<br/>\n",
    "&emsp;&emsp;[Importing required libraries](#Importing-required-libraries)<br/>\n",
    "&emsp;[Running R code in Jupyter with the %R and %%R Jupyter magics](#Running-R-code-in-Jupyter-with-the-%R-and-%%R-Jupyter-magics)<br/>\n",
    "&emsp;[Passing simple variables between Python and R with the %R Jupyter magic](#Passing-simple-variables-between-Python-and-R-with-the-%R-Jupyter-magic)<br/>\n",
    "&emsp;&emsp;[From R to Python](#From-R-to-Python)<br/>\n",
    "&emsp;&emsp;[From Python to R](#From-Python-to-R)<br/>\n",
    "&emsp;[Running entire cells of R code with the %%R magic](#Running-entire-cells-of-R-code-with-the-%%R-magic)<br/>\n",
    "&emsp;[Passing dataframes between R and Python via pandas](#Passing-dataframes-between-R-and-Python-via-pandas)<br/>\n",
    "&emsp;&emsp;[Passing dataframes from R to pandas](#Passing-dataframes-from-R-to-pandas)<br/>\n",
    "&emsp;&emsp;[Passing dataframes from pandas to R](#Passing-dataframes-from-pandas-to-R)<br/>\n",
    "&emsp;[Doing stats in R on data created in Python](#Doing-stats-in-R-on-data-created-in-Python)<br/>\n",
    "&emsp;[Plotting in ggplot](#Plotting-in-ggplot)<br/>\n",
    "&emsp;[In conclusion: would I recommend developing R code in Jupyter](#In-conclusion:-would-I-recommend-developing-R-code-in-Jupyter)<br/>"
   ]
  },
  {
   "cell_type": "markdown",
   "metadata": {},
   "source": [
    "## _Foreword_ - Should I use R or Python? ... Yes ☺️\n",
    "Seriously, Python and R are often pitted against each other in (bio)data-analysis culture wars, but this need not be: R and Python can be very good friends indeed, and here we will see how.\n",
    "\n",
    "As time passes, I find myself using R less and less, but there's no reason you should abandon R if you feel comfortable there. Jupyter notebooks let us combine the two languages rather smoothly."
   ]
  },
  {
   "cell_type": "markdown",
   "metadata": {},
   "source": [
    "## Getting started\n",
    "Let's first make sure that we're using the appropriate environment. For me that's `data`, which I created in a previous notebook by doing\n",
    "```bash\n",
    "conda update --all -y\n",
    "conda create -n data python=3.9 jupyter pandas matplotlib plotly scikit-learn rpy2 r-essentials -y\n",
    "```"
   ]
  },
  {
   "cell_type": "code",
   "execution_count": null,
   "metadata": {},
   "outputs": [],
   "source": []
  },
  {
   "cell_type": "markdown",
   "metadata": {},
   "source": [
    "I see `data` being printed out. Make sure you see whatever your desired environment is.\n",
    "\n",
    "⚠️ If you're on Windows, you need to have an active [WSL installation](https://docs.microsoft.com/en-us/windows/wsl/install-win10)). Then, you should change every line that I start with a `!` to a `!wsl`. For example, if I do `! ls\"` you should instead do `!wsl ls`."
   ]
  },
  {
   "cell_type": "markdown",
   "metadata": {},
   "source": [
    "### Installing `rpy2`  (the interfacer between R and Python) and `r-essentials`\n",
    "Let's install `rpy2` (which I believe stands somewhat dyslexically for _R to Python_) and `r-essentials` (which includes a great number of R tools, some of which you may have heard about, such as `ggplot2`, `tidyverse`, `dplyr`, `randomforest` and `shiny`, plus a lot more):"
   ]
  },
  {
   "cell_type": "code",
   "execution_count": null,
   "metadata": {},
   "outputs": [],
   "source": []
  },
  {
   "cell_type": "markdown",
   "metadata": {},
   "source": [
    "I already have them both, so not a lot happens in my case. In your case, this may take a while, since `conda` needs to download a lot of other things, including R itself, tools to compile and run R code, graphics protocols so that we can plot with R, plus all the packages in `r-essentials`.\n",
    "\n",
    "❓**Why do I need to install R if I already have it in my computer?** I'm glad you ask. This is one of the wonders of `conda` and its environments. Your R version inside the `data` environment is completely independent from whichever other version you may have running on your machine or on other environments. This may seem wasteful, but it is actually very powerful, since you can keep legacy code in one environment and latest versions in another."
   ]
  },
  {
   "cell_type": "markdown",
   "metadata": {},
   "source": [
    "### Importing required libraries\n",
    "We will need:\n",
    "\n",
    "Module        | Use\n",
    ":-------------|:-----------------------------------------\n",
    "**%load_ext rpy2.ipython** | Loads the Jupyter extension that lets us convert cells or bits of R code into Python using `%R` or `%%R`  \"magics\".\n",
    "**rpy2.robjects.lib.ggplot2**   | `ggplot2` is a very popular plotting library for R. And we can use it in Jupyter!\n",
    "**pandas**  | Python's dataframe tool. Great for communicating with R's dataframes.\n",
    "**numpy**   | The preferred data type for communication between R and Python variables is a `numpy.array`."
   ]
  },
  {
   "cell_type": "code",
   "execution_count": null,
   "metadata": {},
   "outputs": [],
   "source": []
  },
  {
   "cell_type": "markdown",
   "metadata": {},
   "source": [
    "## Running R code in Jupyter with the `%R` and `%%R` Jupyter _magics_\n",
    "There are many ways of doing this, but the most elegant ones are with the `%R` and `%%R` Jupyter _magics_. The single `%R` magic lets us run R code inline, whereas the double magic `%%R` must come at the beginning of a cell and declares the entire cell as R code.\n",
    "\n",
    "For example, using the single `%R` magic, we can run typical R code:"
   ]
  },
  {
   "cell_type": "code",
   "execution_count": null,
   "metadata": {},
   "outputs": [],
   "source": []
  },
  {
   "cell_type": "markdown",
   "metadata": {},
   "source": [
    "We'll look at this `array` result in detail later."
   ]
  },
  {
   "cell_type": "markdown",
   "metadata": {},
   "source": [
    "## Passing simple variables between Python and R with the `%R` _Jupyter magic_\n",
    "This is surprisingly easy."
   ]
  },
  {
   "cell_type": "markdown",
   "metadata": {},
   "source": [
    "### From R to Python\n",
    "The syntax for passing variables from R to Python is:\n",
    "```python\n",
    "my_py_var = %R my_r_var\n",
    "```\n",
    "For example:"
   ]
  },
  {
   "cell_type": "code",
   "execution_count": null,
   "metadata": {},
   "outputs": [],
   "source": []
  },
  {
   "cell_type": "markdown",
   "metadata": {},
   "source": [
    "We can pass the results of **R** calculations to a **Python** variable too:"
   ]
  },
  {
   "cell_type": "code",
   "execution_count": null,
   "metadata": {},
   "outputs": [],
   "source": []
  },
  {
   "cell_type": "markdown",
   "metadata": {},
   "source": [
    "I'm not sure how fresh your R is, but just a reminder that every basic variable in R is considered a _vector_. To check exactly what type of variable the returned variable is in Python, we can use Python's `type()` function (always a handy one to keep in mind, along with `help()`):"
   ]
  },
  {
   "cell_type": "code",
   "execution_count": null,
   "metadata": {},
   "outputs": [],
   "source": []
  },
  {
   "cell_type": "markdown",
   "metadata": {},
   "source": [
    "Interesting. It turns out the `%R` Jupyter magic returns a `numpy` n-dimensional array (in this case a single dimension). As discussed in the `numpy` lesson of this workshop, these arrays are the super-efficient version of a `list`. We can extract the single value by using brackets, just like we would with a `numpy.array` or a regular Python `list`:"
   ]
  },
  {
   "cell_type": "code",
   "execution_count": null,
   "metadata": {},
   "outputs": [],
   "source": []
  },
  {
   "cell_type": "markdown",
   "metadata": {},
   "source": [
    "We can also access internal R variables, such as `pi`:"
   ]
  },
  {
   "cell_type": "code",
   "execution_count": null,
   "metadata": {},
   "outputs": [],
   "source": []
  },
  {
   "cell_type": "markdown",
   "metadata": {},
   "source": [
    "Once again, we got a `numpy` array, se we can extract the value with brackets:"
   ]
  },
  {
   "cell_type": "code",
   "execution_count": null,
   "metadata": {},
   "outputs": [],
   "source": []
  },
  {
   "cell_type": "markdown",
   "metadata": {},
   "source": [
    "Vectors can be passed the same way. You just need to assign them to a variable in Python and then they're accessible as a `numpy` array:"
   ]
  },
  {
   "cell_type": "code",
   "execution_count": null,
   "metadata": {},
   "outputs": [],
   "source": []
  },
  {
   "cell_type": "markdown",
   "metadata": {},
   "source": [
    "If for whatever reason you don't want a `numpy` array, you can always turn it into a `list`:"
   ]
  },
  {
   "cell_type": "code",
   "execution_count": null,
   "metadata": {},
   "outputs": [],
   "source": []
  },
  {
   "cell_type": "markdown",
   "metadata": {},
   "source": [
    "### From Python to R\n",
    "The syntax is for sending _simple_ Python variables into R is:\n",
    "```python\n",
    "%R -i my_py_var\n",
    "```\n",
    "(and now `my_py_var` can be used inside R)\n",
    "\n",
    "Let's see an example:"
   ]
  },
  {
   "cell_type": "code",
   "execution_count": null,
   "metadata": {},
   "outputs": [],
   "source": []
  },
  {
   "cell_type": "markdown",
   "metadata": {},
   "source": [
    "You'll notice that whatever was calculated last gets sent as an output to Jupyter. If you want to stop that behaviour, you could add a `;` at the end of the last line.\n",
    "\n",
    "If you're sending a list, it is best to first turn it into a `numpy.array`:"
   ]
  },
  {
   "cell_type": "code",
   "execution_count": null,
   "metadata": {},
   "outputs": [],
   "source": []
  },
  {
   "cell_type": "markdown",
   "metadata": {},
   "source": [
    "(The `;` at the end of the last line is not necessary, but it prevents Jupyter from printing the numpy array)"
   ]
  },
  {
   "cell_type": "markdown",
   "metadata": {},
   "source": [
    "## Running entire cells of R code with the `%%R` magic\n",
    "The Jupyter magic `%R` lets us run R code inline. Its bigger sister, `%%R` lets us declare an entire cell as R code (just remember to put it in the very first line of the cell):"
   ]
  },
  {
   "cell_type": "code",
   "execution_count": null,
   "metadata": {},
   "outputs": [],
   "source": []
  },
  {
   "cell_type": "markdown",
   "metadata": {},
   "source": [
    "## Passing _dataframes_ between R and Python _via_ `pandas`\n",
    "Besides simple variables and vectors, you can also pass entire dataframes. Regular Python doesn't have dataframes, but that's what `pandas` is for, so the main communication between R and Python happens via `pandas`."
   ]
  },
  {
   "cell_type": "markdown",
   "metadata": {},
   "source": [
    "### Passing dataframes from R to `pandas`\n",
    "Let's load the famous `iris` dataset into R:"
   ]
  },
  {
   "cell_type": "code",
   "execution_count": null,
   "metadata": {},
   "outputs": [],
   "source": []
  },
  {
   "cell_type": "markdown",
   "metadata": {},
   "source": [
    "We can now pass this dataframe from R to Python just like we did with simple variables and vectors:"
   ]
  },
  {
   "cell_type": "code",
   "execution_count": null,
   "metadata": {},
   "outputs": [],
   "source": []
  },
  {
   "cell_type": "markdown",
   "metadata": {},
   "source": [
    "And as we can see, the data is received by Python as a `pandas` `DataFrame`"
   ]
  },
  {
   "cell_type": "code",
   "execution_count": null,
   "metadata": {},
   "outputs": [],
   "source": []
  },
  {
   "cell_type": "markdown",
   "metadata": {},
   "source": [
    "Let's just use the nice default `pandas` formatting to explore the dataframe:"
   ]
  },
  {
   "cell_type": "code",
   "execution_count": null,
   "metadata": {},
   "outputs": [],
   "source": []
  },
  {
   "cell_type": "markdown",
   "metadata": {},
   "source": [
    "We can now use this data in Python as we would any `pandas` `DataFrame`. Please check out the `pandas` lesson to learn more 🐼.\n",
    "\n",
    "Note that here I'm just sending the dataframe directly to the Jupyter output on the last line of the cell, instead of following my typical advice of always printing with `print()`. This is because `pandas` dataframes look much nicer if you let them print themselves than if you try to print them with `print()`."
   ]
  },
  {
   "cell_type": "markdown",
   "metadata": {},
   "source": [
    "### Passing dataframes from `pandas` to R\n",
    "Let's create a pandas dataframe in Python:"
   ]
  },
  {
   "cell_type": "code",
   "execution_count": null,
   "metadata": {},
   "outputs": [],
   "source": []
  },
  {
   "cell_type": "markdown",
   "metadata": {},
   "source": [
    "And let's add a few more columns:"
   ]
  },
  {
   "cell_type": "code",
   "execution_count": null,
   "metadata": {},
   "outputs": [],
   "source": []
  },
  {
   "cell_type": "markdown",
   "metadata": {},
   "source": [
    "We can now send this dataframe to R just like we did with simple variables using `%R -i`:"
   ]
  },
  {
   "cell_type": "code",
   "execution_count": null,
   "metadata": {},
   "outputs": [],
   "source": []
  },
  {
   "cell_type": "markdown",
   "metadata": {},
   "source": [
    "And once in there you can do all of your typical R wizardry ®️✨🧙."
   ]
  },
  {
   "cell_type": "markdown",
   "metadata": {},
   "source": [
    "## Doing stats in R on data created in Python"
   ]
  },
  {
   "cell_type": "markdown",
   "metadata": {},
   "source": [
    "We can create data in Python in whichever way, and then store it as `numpy` arrays:"
   ]
  },
  {
   "cell_type": "code",
   "execution_count": null,
   "metadata": {},
   "outputs": [],
   "source": []
  },
  {
   "cell_type": "markdown",
   "metadata": {},
   "source": [
    "Then we can bring it into R at the top of a `%%R` block, separated by commas (without spaces)"
   ]
  },
  {
   "cell_type": "code",
   "execution_count": null,
   "metadata": {},
   "outputs": [],
   "source": []
  },
  {
   "cell_type": "markdown",
   "metadata": {},
   "source": [
    "We can now access the outcome of the R `t.test` in Python:"
   ]
  },
  {
   "cell_type": "code",
   "execution_count": null,
   "metadata": {},
   "outputs": [],
   "source": []
  },
  {
   "cell_type": "markdown",
   "metadata": {},
   "source": [
    "(remember that we get `numpy.ndarray`s as output, so for most of the results we extract the only result with `[0]`)\n",
    "\n",
    "Really cool, innit?"
   ]
  },
  {
   "cell_type": "markdown",
   "metadata": {},
   "source": [
    "## Plotting in `ggplot`\n",
    "Let's say we have some data in Python that we want to plot, but we don't like Python's Matplotlib plots, and we also don't like R's default plotter. We want `ggplot2`. We can easily do that in Jupyter. Above we installed `ggplot2` as part of the `r-essentials` package, and we then imported it into this notebook by issuing:\n",
    "```python\n",
    "import rpy2.robjects.lib.ggplot2 as ggplot2\n",
    "```\n",
    "Here we will use `ggplot` to create an XY dispersion graph of the very famous Iris dataset:"
   ]
  },
  {
   "cell_type": "code",
   "execution_count": null,
   "metadata": {},
   "outputs": [],
   "source": []
  },
  {
   "cell_type": "markdown",
   "metadata": {},
   "source": [
    "## In conclusion: would I recommend _developing_ R code in Jupyter\n",
    "Perhaps not on a regular basis. I still develop my R code in RStudio like everybody else, chiefly because the R code completion works in RStudio but I haven't managed to make it work in Jupyter. So, I would keep both windows open, do my explorations and toy-data tests in RStudio, then bring the code in to Jupyter once I'm satisfied that it does what I want, and run it with my full data here. That's how I developed this Notebook anyway, but I'm happy to receive your comments if you find how to make code completion work for R inside Jupyter.\n",
    "\n",
    "In all honesty, though, as Python gets better and better, I am finding fewer and fewer reasons to use R. In fact, other than preparing this tutorial, it's been several years since the last time I felt that I needed to use R in my research or teaching."
   ]
  }
 ],
 "metadata": {
  "kernelspec": {
   "display_name": "Python 3 (ipykernel)",
   "language": "python",
   "name": "python3"
  },
  "language_info": {
   "codemirror_mode": {
    "name": "ipython",
    "version": 3
   },
   "file_extension": ".py",
   "mimetype": "text/x-python",
   "name": "python",
   "nbconvert_exporter": "python",
   "pygments_lexer": "ipython3",
   "version": "3.9.6"
  }
 },
 "nbformat": 4,
 "nbformat_minor": 4
}
