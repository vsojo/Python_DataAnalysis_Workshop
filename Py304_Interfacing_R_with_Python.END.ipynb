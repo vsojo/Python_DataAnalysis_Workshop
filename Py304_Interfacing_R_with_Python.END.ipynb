{
 "cells": [
  {
   "cell_type": "markdown",
   "metadata": {},
   "source": [
    "# Interfacing R with Python\n",
    "(Víctor Sojo | vsojo@amnh.org)\n",
    "\n",
    "In this notebook we will:\n",
    "+ Run both Python and R code inside the same Jupyter Notebook.\n",
    "+ Share data between R and Python.\n",
    "+ Plug Pandas to R, and vice versa.\n",
    "\n",
    "**References:**\n",
    "+ The [`r2py` tutorial](https://matplotlib.org/3.1.1/tutorials/introductory/pyplot.html).\n",
    "+ Tiago Antao's book [_Bioinformatics with Python Cookbook_](https://www.packtpub.com/product/bioinformatics-with-python-cookbook-second-edition/9781789344691), which I highly recommend. You may be able to access it for free from your library (e.g., Columbia University has it in digital for free)."
   ]
  },
  {
   "cell_type": "markdown",
   "metadata": {},
   "source": [
    "## Contents\n",
    "&emsp;[Foreword - Should I use R or Python? ... Yes ☺️](#Foreword---Should-I-use-R-or-Python?-...-Yes-☺️)<br/>\n",
    "&emsp;[Getting started](#Getting-started)<br/>\n",
    "&emsp;&emsp;[Installing rpy2  \\(the interfacer between R and Python\\) and r-essentials](#Installing-rpy2--\\(the-interfacer-between-R-and-Python\\)-and-r-essentials)<br/>\n",
    "&emsp;&emsp;[Importing required libraries](#Importing-required-libraries)<br/>\n",
    "&emsp;[Running R code in Jupyter with the %R and %%R Jupyter magics](#Running-R-code-in-Jupyter-with-the-%R-and-%%R-Jupyter-magics)<br/>\n",
    "&emsp;[Passing simple variables between Python and R with the %R Jupyter magic](#Passing-simple-variables-between-Python-and-R-with-the-%R-Jupyter-magic)<br/>\n",
    "&emsp;&emsp;[From R to Python](#From-R-to-Python)<br/>\n",
    "&emsp;&emsp;[From Python to R](#From-Python-to-R)<br/>\n",
    "&emsp;[Running entire cells of R code with the %%R magic](#Running-entire-cells-of-R-code-with-the-%%R-magic)<br/>\n",
    "&emsp;[Passing dataframes between R and Python via pandas](#Passing-dataframes-between-R-and-Python-via-pandas)<br/>\n",
    "&emsp;&emsp;[Passing dataframes from R to pandas](#Passing-dataframes-from-R-to-pandas)<br/>\n",
    "&emsp;&emsp;[Passing dataframes from pandas to R](#Passing-dataframes-from-pandas-to-R)<br/>\n",
    "&emsp;[Doing stats in R on data created in Python](#Doing-stats-in-R-on-data-created-in-Python)<br/>\n",
    "&emsp;[Plotting in ggplot](#Plotting-in-ggplot)<br/>\n",
    "&emsp;[In conclusion: would I recommend developing R code in Jupyter](#In-conclusion:-would-I-recommend-developing-R-code-in-Jupyter)<br/>"
   ]
  },
  {
   "cell_type": "markdown",
   "metadata": {},
   "source": [
    "## _Foreword_ - Should I use R or Python? ... Yes ☺️\n",
    "Seriously, Python and R are often pitted against each other in (bio)data-analysis culture wars, but this need not be: R and Python can be very good friends indeed, and here we will see how.\n",
    "\n",
    "As time passes, I find myself using R less and less, but there's no reason you should abandon R if you feel comfortable there. Jupyter notebooks let us combine the two languages rather smoothly."
   ]
  },
  {
   "cell_type": "markdown",
   "metadata": {},
   "source": [
    "## Getting started\n",
    "Let's first make sure that we're using the appropriate environment. For me that's `data`, which I created in a previous notebook by doing\n",
    "```bash\n",
    "conda update --all -y\n",
    "conda create -n data python=3.9 jupyter pandas matplotlib plotly scikit-learn rpy2 r-essentials -y\n",
    "```"
   ]
  },
  {
   "cell_type": "code",
   "execution_count": 1,
   "metadata": {},
   "outputs": [
    {
     "name": "stdout",
     "output_type": "stream",
     "text": [
      "data\r\n"
     ]
    }
   ],
   "source": [
    "! echo $CONDA_DEFAULT_ENV"
   ]
  },
  {
   "cell_type": "markdown",
   "metadata": {},
   "source": [
    "I see `data` being printed out. Make sure you see whatever your desired environment is.\n",
    "\n",
    "⚠️ If you're on Windows, you need to have an active [WSL installation](https://docs.microsoft.com/en-us/windows/wsl/install-win10)). Then, you should change every line that I start with a `!` to a `!wsl`. For example, if I do `! ls\"` you should instead do `!wsl ls`."
   ]
  },
  {
   "cell_type": "markdown",
   "metadata": {},
   "source": [
    "### Installing `rpy2`  (the interfacer between R and Python) and `r-essentials`\n",
    "Let's install `rpy2` (which I believe stands somewhat dyslexically for _R to Python_) and `r-essentials` (which includes a great number of R tools, some of which you may have heard about, such as `ggplot2`, `tidyverse`, `dplyr`, `randomforest` and `shiny`, plus a lot more):"
   ]
  },
  {
   "cell_type": "code",
   "execution_count": 2,
   "metadata": {},
   "outputs": [],
   "source": [
    "#! conda install -y rpy2 r-essentials"
   ]
  },
  {
   "cell_type": "markdown",
   "metadata": {},
   "source": [
    "I already have them both, so not a lot happens in my case. In your case, this may take a while, since `conda` needs to download a lot of other things, including R itself, tools to compile and run R code, graphics protocols so that we can plot with R, plus all the packages in `r-essentials`.\n",
    "\n",
    "❓**Why do I need to install R if I already have it in my computer?** I'm glad you ask. This is one of the wonders of `conda` and its environments. Your R version inside the `data` environment is completely independent from whichever other version you may have running on your machine or on other environments. This may seem wasteful, but it is actually very powerful, since you can keep legacy code in one environment and latest versions in another."
   ]
  },
  {
   "cell_type": "markdown",
   "metadata": {},
   "source": [
    "### Importing required libraries\n",
    "We will need:\n",
    "\n",
    "Module        | Use\n",
    ":-------------|:-----------------------------------------\n",
    "**%load_ext rpy2.ipython** | Loads the Jupyter extension that lets us convert cells or bits of R code into Python using `%R` or `%%R`  \"magics\".\n",
    "**rpy2.robjects.lib.ggplot2**   | `ggplot2` is a very popular plotting library for R. And we can use it in Jupyter!\n",
    "**pandas**  | Python's dataframe tool. Great for communicating with R's dataframes.\n",
    "**numpy**   | The preferred data type for communication between R and Python variables is a `numpy.array`."
   ]
  },
  {
   "cell_type": "code",
   "execution_count": 3,
   "metadata": {},
   "outputs": [],
   "source": [
    "%load_ext rpy2.ipython\n",
    "from rpy2.robjects.lib import ggplot2\n",
    "import pandas as pd\n",
    "import numpy as np"
   ]
  },
  {
   "cell_type": "markdown",
   "metadata": {},
   "source": [
    "## Running R code in Jupyter with the `%R` and `%%R` Jupyter _magics_\n",
    "There are many ways of doing this, but the most elegant ones are with the `%R` and `%%R` Jupyter _magics_. The single `%R` magic lets us run R code inline, whereas the double magic `%%R` must come at the beginning of a cell and declares the entire cell as R code.\n",
    "\n",
    "For example, using the single `%R` magic, we can run typical R code:"
   ]
  },
  {
   "cell_type": "code",
   "execution_count": 4,
   "metadata": {},
   "outputs": [
    {
     "data": {
      "text/plain": [
       "array([3.])"
      ]
     },
     "execution_count": 4,
     "metadata": {},
     "output_type": "execute_result"
    }
   ],
   "source": [
    "%R sqrt(9)"
   ]
  },
  {
   "cell_type": "markdown",
   "metadata": {},
   "source": [
    "We'll look at this `array` result in detail later."
   ]
  },
  {
   "cell_type": "markdown",
   "metadata": {},
   "source": [
    "## Passing simple variables between Python and R with the `%R` _Jupyter magic_\n",
    "This is surprisingly easy."
   ]
  },
  {
   "cell_type": "markdown",
   "metadata": {},
   "source": [
    "### From R to Python\n",
    "The syntax for passing variables from R to Python is:\n",
    "```python\n",
    "my_py_var = %R my_r_var\n",
    "```\n",
    "For example:"
   ]
  },
  {
   "cell_type": "code",
   "execution_count": 5,
   "metadata": {},
   "outputs": [
    {
     "name": "stdout",
     "output_type": "stream",
     "text": [
      "[5.]\n"
     ]
    }
   ],
   "source": [
    "five = %R 5\n",
    "print(five)"
   ]
  },
  {
   "cell_type": "markdown",
   "metadata": {},
   "source": [
    "We can pass the results of **R** calculations to a **Python** variable too:"
   ]
  },
  {
   "cell_type": "code",
   "execution_count": 6,
   "metadata": {},
   "outputs": [
    {
     "name": "stdout",
     "output_type": "stream",
     "text": [
      "[3.]\n"
     ]
    }
   ],
   "source": [
    "three = %R sqrt(9)\n",
    "print(three)"
   ]
  },
  {
   "cell_type": "markdown",
   "metadata": {},
   "source": [
    "I'm not sure how fresh your R is, but just a reminder that every basic variable in R is considered a _vector_. To check exactly what type of variable the returned variable is in Python, we can use Python's `type()` function (always a handy one to keep in mind, along with `help()`):"
   ]
  },
  {
   "cell_type": "code",
   "execution_count": 7,
   "metadata": {},
   "outputs": [
    {
     "name": "stdout",
     "output_type": "stream",
     "text": [
      "<class 'numpy.ndarray'>\n"
     ]
    }
   ],
   "source": [
    "print( type(three) )"
   ]
  },
  {
   "cell_type": "markdown",
   "metadata": {},
   "source": [
    "Interesting. It turns out the `%R` Jupyter magic returns a `numpy` n-dimensional array (in this case a single dimension). As discussed in the `numpy` lesson of this workshop, these arrays are the super-efficient version of a `list`. We can extract the single value by using brackets, just like we would with a `numpy.array` or a regular Python `list`:"
   ]
  },
  {
   "cell_type": "code",
   "execution_count": 8,
   "metadata": {},
   "outputs": [
    {
     "name": "stdout",
     "output_type": "stream",
     "text": [
      "3.0\n"
     ]
    }
   ],
   "source": [
    "print(three[0])"
   ]
  },
  {
   "cell_type": "markdown",
   "metadata": {},
   "source": [
    "We can also access internal R variables, such as `pi`:"
   ]
  },
  {
   "cell_type": "code",
   "execution_count": 9,
   "metadata": {},
   "outputs": [
    {
     "name": "stdout",
     "output_type": "stream",
     "text": [
      "[3.14159265]\n"
     ]
    }
   ],
   "source": [
    "py_pi = %R pi\n",
    "print(py_pi)"
   ]
  },
  {
   "cell_type": "markdown",
   "metadata": {},
   "source": [
    "Once again, we got a `numpy` array, se we can extract the value with brackets:"
   ]
  },
  {
   "cell_type": "code",
   "execution_count": 10,
   "metadata": {},
   "outputs": [
    {
     "name": "stdout",
     "output_type": "stream",
     "text": [
      "3.141592653589793\n"
     ]
    }
   ],
   "source": [
    "print(py_pi[0])"
   ]
  },
  {
   "cell_type": "markdown",
   "metadata": {},
   "source": [
    "Vectors can be passed the same way. You just need to assign them to a variable in Python and then they're accessible as a `numpy` array:"
   ]
  },
  {
   "cell_type": "code",
   "execution_count": 11,
   "metadata": {},
   "outputs": [
    {
     "name": "stdout",
     "output_type": "stream",
     "text": [
      "[1. 2. 3. 4. 5. 6.]\n",
      "<class 'numpy.ndarray'>\n"
     ]
    }
   ],
   "source": [
    "%R v <- c(1,2,3,4,5,6)\n",
    "v = %R v\n",
    "print(v)\n",
    "print(type(v))"
   ]
  },
  {
   "cell_type": "markdown",
   "metadata": {},
   "source": [
    "If for whatever reason you don't want a `numpy` array, you can always turn it into a `list`:"
   ]
  },
  {
   "cell_type": "code",
   "execution_count": 12,
   "metadata": {},
   "outputs": [
    {
     "name": "stdout",
     "output_type": "stream",
     "text": [
      "[1.0, 2.0, 3.0, 4.0, 5.0, 6.0]\n",
      "<class 'list'>\n"
     ]
    }
   ],
   "source": [
    "v = list(v)\n",
    "print(v)\n",
    "print(type(v))"
   ]
  },
  {
   "cell_type": "markdown",
   "metadata": {},
   "source": [
    "### From Python to R\n",
    "The syntax is for sending _simple_ Python variables into R is:\n",
    "```python\n",
    "%R -i my_py_var\n",
    "```\n",
    "(and now `my_py_var` can be used inside R)\n",
    "\n",
    "Let's see an example:"
   ]
  },
  {
   "cell_type": "code",
   "execution_count": 13,
   "metadata": {},
   "outputs": [
    {
     "name": "stdout",
     "output_type": "stream",
     "text": [
      "[1] 42\n",
      "[1] 6.480741\n"
     ]
    },
    {
     "data": {
      "text/plain": [
       "array([6.4807407])"
      ]
     },
     "execution_count": 13,
     "metadata": {},
     "output_type": "execute_result"
    }
   ],
   "source": [
    "my_py_var = 42\n",
    "%R -i my_py_var\n",
    "%R print(my_py_var)\n",
    "%R print(sqrt(my_py_var))"
   ]
  },
  {
   "cell_type": "markdown",
   "metadata": {},
   "source": [
    "You'll notice that whatever was calculated last gets sent as an output to Jupyter. If you want to stop that behaviour, you could add a `;` at the end of the last line.\n",
    "\n",
    "If you're sending a list, it is best to first turn it into a `numpy.array`:"
   ]
  },
  {
   "cell_type": "code",
   "execution_count": 14,
   "metadata": {},
   "outputs": [
    {
     "name": "stdout",
     "output_type": "stream",
     "text": [
      "[1] 1 2 3 4 5 6\n"
     ]
    }
   ],
   "source": [
    "my_list = [1,2,3,4,5,6]\n",
    "my_arr = np.array(my_list)\n",
    "%R -i my_arr\n",
    "%R print(my_arr);"
   ]
  },
  {
   "cell_type": "markdown",
   "metadata": {},
   "source": [
    "(The `;` at the end of the last line is not necessary, but it prevents Jupyter from printing the numpy array)"
   ]
  },
  {
   "cell_type": "markdown",
   "metadata": {},
   "source": [
    "## Running entire cells of R code with the `%%R` magic\n",
    "The Jupyter magic `%R` lets us run R code inline. Its bigger sister, `%%R` lets us declare an entire cell as R code (just remember to put it in the very first line of the cell):"
   ]
  },
  {
   "cell_type": "code",
   "execution_count": 15,
   "metadata": {},
   "outputs": [
    {
     "name": "stdout",
     "output_type": "stream",
     "text": [
      "\n",
      "\tPaired t-test\n",
      "\n",
      "data:  v1 and v2\n",
      "t = -2, df = 7, p-value = 0.08562\n",
      "alternative hypothesis: true difference in means is not equal to 0\n",
      "95 percent confidence interval:\n",
      " -2.1823121  0.1823121\n",
      "sample estimates:\n",
      "mean of the differences \n",
      "                     -1 \n",
      "\n"
     ]
    }
   ],
   "source": [
    "%%R\n",
    "# Everything in this cell is R code!\n",
    "v1 <- c(1,2,3,2,4,1,3,1)\n",
    "v2 <- c(2,2,4,2,7,2,2,4)\n",
    "myttest <- t.test(v1, v2, paired=TRUE)\n",
    "print(myttest)"
   ]
  },
  {
   "cell_type": "markdown",
   "metadata": {},
   "source": [
    "## Passing _dataframes_ between R and Python _via_ `pandas`\n",
    "Besides simple variables and vectors, you can also pass entire dataframes. Regular Python doesn't have dataframes, but that's what `pandas` is for, so the main communication between R and Python happens via `pandas`."
   ]
  },
  {
   "cell_type": "markdown",
   "metadata": {},
   "source": [
    "### Passing dataframes from R to `pandas`\n",
    "Let's load the famous `iris` dataset into R:"
   ]
  },
  {
   "cell_type": "code",
   "execution_count": 16,
   "metadata": {},
   "outputs": [
    {
     "name": "stdout",
     "output_type": "stream",
     "text": [
      "  Sepal.Length    Sepal.Width     Petal.Length    Petal.Width   \n",
      " Min.   :4.300   Min.   :2.000   Min.   :1.000   Min.   :0.100  \n",
      " 1st Qu.:5.100   1st Qu.:2.800   1st Qu.:1.600   1st Qu.:0.300  \n",
      " Median :5.800   Median :3.000   Median :4.350   Median :1.300  \n",
      " Mean   :5.843   Mean   :3.057   Mean   :3.758   Mean   :1.199  \n",
      " 3rd Qu.:6.400   3rd Qu.:3.300   3rd Qu.:5.100   3rd Qu.:1.800  \n",
      " Max.   :7.900   Max.   :4.400   Max.   :6.900   Max.   :2.500  \n",
      "       Species  \n",
      " setosa    :50  \n",
      " versicolor:50  \n",
      " virginica :50  \n",
      "                \n",
      "                \n",
      "                \n",
      "[1] 5.1 4.9 4.7 4.6 5.0 5.4\n"
     ]
    },
    {
     "data": {
      "image/png": "[encoded data removed]"
     },
     "metadata": {},
     "output_type": "display_data"
    }
   ],
   "source": [
    "%%R\n",
    "data(iris)\n",
    "print(summary(iris))\n",
    "print(head(iris$Sepal.Length))\n",
    "plot(iris)"
   ]
  },
  {
   "cell_type": "markdown",
   "metadata": {},
   "source": [
    "We can now pass this dataframe from R to Python just like we did with simple variables and vectors:"
   ]
  },
  {
   "cell_type": "code",
   "execution_count": 17,
   "metadata": {},
   "outputs": [],
   "source": [
    "pyris = %R iris"
   ]
  },
  {
   "cell_type": "markdown",
   "metadata": {},
   "source": [
    "And as we can see, the data is received by Python as a `pandas` `DataFrame`"
   ]
  },
  {
   "cell_type": "code",
   "execution_count": 18,
   "metadata": {},
   "outputs": [
    {
     "name": "stdout",
     "output_type": "stream",
     "text": [
      "<class 'pandas.core.frame.DataFrame'>\n"
     ]
    }
   ],
   "source": [
    "print(type(pyris))"
   ]
  },
  {
   "cell_type": "markdown",
   "metadata": {},
   "source": [
    "Let's just use the nice default `pandas` formatting to explore the dataframe:"
   ]
  },
  {
   "cell_type": "code",
   "execution_count": 19,
   "metadata": {},
   "outputs": [
    {
     "data": {
      "text/html": [
       "<div>\n",
       "<style scoped>\n",
       "    .dataframe tbody tr th:only-of-type {\n",
       "        vertical-align: middle;\n",
       "    }\n",
       "\n",
       "    .dataframe tbody tr th {\n",
       "        vertical-align: top;\n",
       "    }\n",
       "\n",
       "    .dataframe thead th {\n",
       "        text-align: right;\n",
       "    }\n",
       "</style>\n",
       "<table border=\"1\" class=\"dataframe\">\n",
       "  <thead>\n",
       "    <tr style=\"text-align: right;\">\n",
       "      <th></th>\n",
       "      <th>Sepal.Length</th>\n",
       "      <th>Sepal.Width</th>\n",
       "      <th>Petal.Length</th>\n",
       "      <th>Petal.Width</th>\n",
       "      <th>Species</th>\n",
       "    </tr>\n",
       "  </thead>\n",
       "  <tbody>\n",
       "    <tr>\n",
       "      <th>1</th>\n",
       "      <td>5.1</td>\n",
       "      <td>3.5</td>\n",
       "      <td>1.4</td>\n",
       "      <td>0.2</td>\n",
       "      <td>setosa</td>\n",
       "    </tr>\n",
       "    <tr>\n",
       "      <th>2</th>\n",
       "      <td>4.9</td>\n",
       "      <td>3.0</td>\n",
       "      <td>1.4</td>\n",
       "      <td>0.2</td>\n",
       "      <td>setosa</td>\n",
       "    </tr>\n",
       "    <tr>\n",
       "      <th>3</th>\n",
       "      <td>4.7</td>\n",
       "      <td>3.2</td>\n",
       "      <td>1.3</td>\n",
       "      <td>0.2</td>\n",
       "      <td>setosa</td>\n",
       "    </tr>\n",
       "    <tr>\n",
       "      <th>4</th>\n",
       "      <td>4.6</td>\n",
       "      <td>3.1</td>\n",
       "      <td>1.5</td>\n",
       "      <td>0.2</td>\n",
       "      <td>setosa</td>\n",
       "    </tr>\n",
       "    <tr>\n",
       "      <th>5</th>\n",
       "      <td>5.0</td>\n",
       "      <td>3.6</td>\n",
       "      <td>1.4</td>\n",
       "      <td>0.2</td>\n",
       "      <td>setosa</td>\n",
       "    </tr>\n",
       "    <tr>\n",
       "      <th>...</th>\n",
       "      <td>...</td>\n",
       "      <td>...</td>\n",
       "      <td>...</td>\n",
       "      <td>...</td>\n",
       "      <td>...</td>\n",
       "    </tr>\n",
       "    <tr>\n",
       "      <th>146</th>\n",
       "      <td>6.7</td>\n",
       "      <td>3.0</td>\n",
       "      <td>5.2</td>\n",
       "      <td>2.3</td>\n",
       "      <td>virginica</td>\n",
       "    </tr>\n",
       "    <tr>\n",
       "      <th>147</th>\n",
       "      <td>6.3</td>\n",
       "      <td>2.5</td>\n",
       "      <td>5.0</td>\n",
       "      <td>1.9</td>\n",
       "      <td>virginica</td>\n",
       "    </tr>\n",
       "    <tr>\n",
       "      <th>148</th>\n",
       "      <td>6.5</td>\n",
       "      <td>3.0</td>\n",
       "      <td>5.2</td>\n",
       "      <td>2.0</td>\n",
       "      <td>virginica</td>\n",
       "    </tr>\n",
       "    <tr>\n",
       "      <th>149</th>\n",
       "      <td>6.2</td>\n",
       "      <td>3.4</td>\n",
       "      <td>5.4</td>\n",
       "      <td>2.3</td>\n",
       "      <td>virginica</td>\n",
       "    </tr>\n",
       "    <tr>\n",
       "      <th>150</th>\n",
       "      <td>5.9</td>\n",
       "      <td>3.0</td>\n",
       "      <td>5.1</td>\n",
       "      <td>1.8</td>\n",
       "      <td>virginica</td>\n",
       "    </tr>\n",
       "  </tbody>\n",
       "</table>\n",
       "<p>150 rows × 5 columns</p>\n",
       "</div>"
      ],
      "text/plain": [
       "     Sepal.Length  Sepal.Width  Petal.Length  Petal.Width    Species\n",
       "1             5.1          3.5           1.4          0.2     setosa\n",
       "2             4.9          3.0           1.4          0.2     setosa\n",
       "3             4.7          3.2           1.3          0.2     setosa\n",
       "4             4.6          3.1           1.5          0.2     setosa\n",
       "5             5.0          3.6           1.4          0.2     setosa\n",
       "..            ...          ...           ...          ...        ...\n",
       "146           6.7          3.0           5.2          2.3  virginica\n",
       "147           6.3          2.5           5.0          1.9  virginica\n",
       "148           6.5          3.0           5.2          2.0  virginica\n",
       "149           6.2          3.4           5.4          2.3  virginica\n",
       "150           5.9          3.0           5.1          1.8  virginica\n",
       "\n",
       "[150 rows x 5 columns]"
      ]
     },
     "execution_count": 19,
     "metadata": {},
     "output_type": "execute_result"
    }
   ],
   "source": [
    "pyris"
   ]
  },
  {
   "cell_type": "markdown",
   "metadata": {},
   "source": [
    "We can now use this data in Python as we would any `pandas` `DataFrame`. Please check out the `pandas` lesson to learn more 🐼.\n",
    "\n",
    "Note that here I'm just sending the dataframe directly to the Jupyter output on the last line of the cell, instead of following my typical advice of always printing with `print()`. This is because `pandas` dataframes look much nicer if you let them print themselves than if you try to print them with `print()`."
   ]
  },
  {
   "cell_type": "markdown",
   "metadata": {},
   "source": [
    "### Passing dataframes from `pandas` to R\n",
    "Let's create a pandas dataframe in Python:"
   ]
  },
  {
   "cell_type": "code",
   "execution_count": 20,
   "metadata": {},
   "outputs": [
    {
     "data": {
      "text/html": [
       "<div>\n",
       "<style scoped>\n",
       "    .dataframe tbody tr th:only-of-type {\n",
       "        vertical-align: middle;\n",
       "    }\n",
       "\n",
       "    .dataframe tbody tr th {\n",
       "        vertical-align: top;\n",
       "    }\n",
       "\n",
       "    .dataframe thead th {\n",
       "        text-align: right;\n",
       "    }\n",
       "</style>\n",
       "<table border=\"1\" class=\"dataframe\">\n",
       "  <thead>\n",
       "    <tr style=\"text-align: right;\">\n",
       "      <th></th>\n",
       "      <th>evens</th>\n",
       "    </tr>\n",
       "  </thead>\n",
       "  <tbody>\n",
       "    <tr>\n",
       "      <th>0</th>\n",
       "      <td>0</td>\n",
       "    </tr>\n",
       "    <tr>\n",
       "      <th>1</th>\n",
       "      <td>2</td>\n",
       "    </tr>\n",
       "    <tr>\n",
       "      <th>2</th>\n",
       "      <td>4</td>\n",
       "    </tr>\n",
       "    <tr>\n",
       "      <th>3</th>\n",
       "      <td>6</td>\n",
       "    </tr>\n",
       "    <tr>\n",
       "      <th>4</th>\n",
       "      <td>8</td>\n",
       "    </tr>\n",
       "    <tr>\n",
       "      <th>5</th>\n",
       "      <td>10</td>\n",
       "    </tr>\n",
       "    <tr>\n",
       "      <th>6</th>\n",
       "      <td>12</td>\n",
       "    </tr>\n",
       "  </tbody>\n",
       "</table>\n",
       "</div>"
      ],
      "text/plain": [
       "   evens\n",
       "0      0\n",
       "1      2\n",
       "2      4\n",
       "3      6\n",
       "4      8\n",
       "5     10\n",
       "6     12"
      ]
     },
     "execution_count": 20,
     "metadata": {},
     "output_type": "execute_result"
    }
   ],
   "source": [
    "even_numbers = [0,2,4,6,8,10,12]\n",
    "df = pd.DataFrame(even_numbers, columns=['evens'])\n",
    "df"
   ]
  },
  {
   "cell_type": "markdown",
   "metadata": {},
   "source": [
    "And let's add a few more columns:"
   ]
  },
  {
   "cell_type": "code",
   "execution_count": 21,
   "metadata": {},
   "outputs": [
    {
     "data": {
      "text/html": [
       "<div>\n",
       "<style scoped>\n",
       "    .dataframe tbody tr th:only-of-type {\n",
       "        vertical-align: middle;\n",
       "    }\n",
       "\n",
       "    .dataframe tbody tr th {\n",
       "        vertical-align: top;\n",
       "    }\n",
       "\n",
       "    .dataframe thead th {\n",
       "        text-align: right;\n",
       "    }\n",
       "</style>\n",
       "<table border=\"1\" class=\"dataframe\">\n",
       "  <thead>\n",
       "    <tr style=\"text-align: right;\">\n",
       "      <th></th>\n",
       "      <th>evens</th>\n",
       "      <th>squares</th>\n",
       "      <th>cubes</th>\n",
       "    </tr>\n",
       "  </thead>\n",
       "  <tbody>\n",
       "    <tr>\n",
       "      <th>0</th>\n",
       "      <td>0</td>\n",
       "      <td>0</td>\n",
       "      <td>0</td>\n",
       "    </tr>\n",
       "    <tr>\n",
       "      <th>1</th>\n",
       "      <td>2</td>\n",
       "      <td>4</td>\n",
       "      <td>8</td>\n",
       "    </tr>\n",
       "    <tr>\n",
       "      <th>2</th>\n",
       "      <td>4</td>\n",
       "      <td>16</td>\n",
       "      <td>64</td>\n",
       "    </tr>\n",
       "    <tr>\n",
       "      <th>3</th>\n",
       "      <td>6</td>\n",
       "      <td>36</td>\n",
       "      <td>216</td>\n",
       "    </tr>\n",
       "    <tr>\n",
       "      <th>4</th>\n",
       "      <td>8</td>\n",
       "      <td>64</td>\n",
       "      <td>512</td>\n",
       "    </tr>\n",
       "    <tr>\n",
       "      <th>5</th>\n",
       "      <td>10</td>\n",
       "      <td>100</td>\n",
       "      <td>1000</td>\n",
       "    </tr>\n",
       "    <tr>\n",
       "      <th>6</th>\n",
       "      <td>12</td>\n",
       "      <td>144</td>\n",
       "      <td>1728</td>\n",
       "    </tr>\n",
       "  </tbody>\n",
       "</table>\n",
       "</div>"
      ],
      "text/plain": [
       "   evens  squares  cubes\n",
       "0      0        0      0\n",
       "1      2        4      8\n",
       "2      4       16     64\n",
       "3      6       36    216\n",
       "4      8       64    512\n",
       "5     10      100   1000\n",
       "6     12      144   1728"
      ]
     },
     "execution_count": 21,
     "metadata": {},
     "output_type": "execute_result"
    }
   ],
   "source": [
    "df['squares'] = df.evens**2\n",
    "df['cubes'] = df.evens**3\n",
    "df"
   ]
  },
  {
   "cell_type": "markdown",
   "metadata": {},
   "source": [
    "We can now send this dataframe to R just like we did with simple variables using `%R -i`:"
   ]
  },
  {
   "cell_type": "code",
   "execution_count": 22,
   "metadata": {},
   "outputs": [
    {
     "data": {
      "image/png": "[encoded data removed]"
     },
     "metadata": {},
     "output_type": "display_data"
    }
   ],
   "source": [
    "%R -i df\n",
    "%R plot(df)"
   ]
  },
  {
   "cell_type": "markdown",
   "metadata": {},
   "source": [
    "And once in there you can do all of your typical R wizardry ®️✨🧙."
   ]
  },
  {
   "cell_type": "markdown",
   "metadata": {},
   "source": [
    "## Doing stats in R on data created in Python"
   ]
  },
  {
   "cell_type": "markdown",
   "metadata": {},
   "source": [
    "We can create data in Python in whichever way, and then store it as `numpy` arrays:"
   ]
  },
  {
   "cell_type": "code",
   "execution_count": 23,
   "metadata": {},
   "outputs": [],
   "source": [
    "v1 = np.array([1,1,2,2,1,2,2,1])\n",
    "v2 = np.array([2,2,3,2,1,1,2,2])"
   ]
  },
  {
   "cell_type": "markdown",
   "metadata": {},
   "source": [
    "Then we can bring it into R at the top of a `%%R` block, separated by commas (without spaces)"
   ]
  },
  {
   "cell_type": "code",
   "execution_count": 24,
   "metadata": {},
   "outputs": [
    {
     "name": "stdout",
     "output_type": "stream",
     "text": [
      "[1] 1 1 2 2 1 2 2 1\n",
      "[1] 2 2 3 2 1 1 2 2\n",
      "\n",
      "\tPaired t-test\n",
      "\n",
      "data:  v1 and v2\n",
      "t = -1.4256, df = 7, p-value = 0.197\n",
      "alternative hypothesis: true difference in means is not equal to 0\n",
      "95 percent confidence interval:\n",
      " -0.9970195  0.2470195\n",
      "sample estimates:\n",
      "mean of the differences \n",
      "                 -0.375 \n",
      "\n"
     ]
    }
   ],
   "source": [
    "%%R -i v1,v2\n",
    "print(v1)\n",
    "print(v2)\n",
    "myttest <- t.test(v1, v2, paired=TRUE)\n",
    "print(myttest)"
   ]
  },
  {
   "cell_type": "markdown",
   "metadata": {},
   "source": [
    "We can now access the outcome of the R `t.test` in Python:"
   ]
  },
  {
   "cell_type": "code",
   "execution_count": 25,
   "metadata": {},
   "outputs": [
    {
     "name": "stdout",
     "output_type": "stream",
     "text": [
      "The t statistic is -1.4255728899344744\n",
      "The p-value is 0.1970220721577505\n",
      "The mean of the differences between the two groups is -0.375\n",
      "and the confidence interval is [-0.99701947  0.24701947]\n"
     ]
    }
   ],
   "source": [
    "tstat = %R myttest$statistic\n",
    "p_val = %R myttest$p.value\n",
    "meand = %R myttest$estimate\n",
    "confi = %R myttest$conf.int\n",
    "\n",
    "print(f\"The t statistic is {tstat[0]}\\n\" +\n",
    "      f\"The p-value is {p_val[0]}\\n\" +\n",
    "      f\"The mean of the differences between the two groups is {meand[0]}\\n\" +\n",
    "      f\"and the confidence interval is {confi}\")"
   ]
  },
  {
   "cell_type": "markdown",
   "metadata": {},
   "source": [
    "(remember that we get `numpy.ndarray`s as output, so for most of the results we extract the only result with `[0]`)\n",
    "\n",
    "Really cool, innit?"
   ]
  },
  {
   "cell_type": "markdown",
   "metadata": {},
   "source": [
    "## Plotting in `ggplot`\n",
    "Let's say we have some data in Python that we want to plot, but we don't like Python's Matplotlib plots, and we also don't like R's default plotter. We want `ggplot2`. We can easily do that in Jupyter. Above we installed `ggplot2` as part of the `r-essentials` package, and we then imported it into this notebook by issuing:\n",
    "```python\n",
    "import rpy2.robjects.lib.ggplot2 as ggplot2\n",
    "```\n",
    "Here we will use `ggplot` to create an XY dispersion graph of the very famous Iris dataset:"
   ]
  },
  {
   "cell_type": "code",
   "execution_count": 26,
   "metadata": {},
   "outputs": [
    {
     "data": {
      "image/png": "[encoded data removed]"
     },
     "metadata": {},
     "output_type": "display_data"
    }
   ],
   "source": [
    "%%R\n",
    "# Load the iris dataset\n",
    "data(\"iris\")\n",
    "# Create a plot with ggplot for the petal length versus sepal length, coloured by the iris species\n",
    "IrisPlot <- ggplot(iris, aes(Sepal.Length, Petal.Length, colour=Species)) + geom_point()\n",
    "print(IrisPlot)"
   ]
  },
  {
   "cell_type": "markdown",
   "metadata": {},
   "source": [
    "## In conclusion: would I recommend _developing_ R code in Jupyter\n",
    "Perhaps not on a regular basis. I still develop my R code in RStudio like everybody else, chiefly because the R code completion works in RStudio but I haven't managed to make it work in Jupyter. So, I would keep both windows open, do my explorations and toy-data tests in RStudio, then bring the code in to Jupyter once I'm satisfied that it does what I want, and run it with my full data here. That's how I developed this Notebook anyway, but I'm happy to receive your comments if you find how to make code completion work for R inside Jupyter.\n",
    "\n",
    "In all honesty, though, as Python gets better and better, I am finding fewer and fewer reasons to use R. In fact, other than preparing this tutorial, it's been several years since the last time I felt that I needed to use R in my research or teaching."
   ]
  }
 ],
 "metadata": {
  "kernelspec": {
   "display_name": "Python 3 (ipykernel)",
   "language": "python",
   "name": "python3"
  },
  "language_info": {
   "codemirror_mode": {
    "name": "ipython",
    "version": 3
   },
   "file_extension": ".py",
   "mimetype": "text/x-python",
   "name": "python",
   "nbconvert_exporter": "python",
   "pygments_lexer": "ipython3",
   "version": "3.9.6"
  }
 },
 "nbformat": 4,
 "nbformat_minor": 4
}
