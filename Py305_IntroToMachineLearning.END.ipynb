{
 "cells": [
  {
   "cell_type": "markdown",
   "id": "valid-bailey",
   "metadata": {},
   "source": [
    "# A very timid introduction to machine learning with scikit-learn\n",
    "(Víctor Sojo | vsojo@amnh.org)\n",
    "\n",
    "Here we will provide an all-too-brief introduction to some of the main concepts of machine learning with scikit-learn (and pandas). We will look at only one type of model, linear regression, to demonstrate the key principles of working with scikit-learn.\n",
    "\n",
    "**References:**\n",
    "+ The [scikit-learn tutorial](https://scikit-learn.org/stable/tutorial/basic/tutorial.html#conventions).\n",
    "+ The [Wikipedia article on Machine Learning](https://en.wikipedia.org/wiki/Machine_learning).\n",
    "+ The data comes from the amazing [World Bank Open Data repository](https://data.worldbank.org/indicator)."
   ]
  },
  {
   "cell_type": "markdown",
   "id": "dangerous-zealand",
   "metadata": {},
   "source": [
    "## Contents\n",
    "&emsp;[What is machine learning?](#What-is-machine-learning?)<br/>\n",
    "&emsp;[Getting started](#Getting-started)<br/>\n",
    "&emsp;&emsp;[Checking that we're running the right environment](#Checking-that-we're-running-the-right-environment)<br/>\n",
    "&emsp;&emsp;[Installing scikit-learn \\(if you don't have it\\)](#Installing-scikit-learn-\\(if-you-don't-have-it\\))<br/>\n",
    "&emsp;&emsp;[Importing necessary libraries](#Importing-necessary-libraries)<br/>\n",
    "&emsp;[Linear Regression](#Linear-Regression)<br/>\n",
    "&emsp;&emsp;[Creating a filtered dataframe](#Creating-a-filtered-dataframe)<br/>\n",
    "&emsp;[Removing missing values from the pandas dataframe](#Removing-missing-values-from-the-pandas-dataframe)<br/>\n",
    "&emsp;&emsp;[Visualising the columns](#Visualising-the-columns)<br/>\n",
    "&emsp;&emsp;[Building the linear regression model](#Building-the-linear-regression-model)<br/>\n",
    "&emsp;[Predicting values using the model fit](#Predicting-values-using-the-model-fit)<br/>\n",
    "&emsp;[A bit of machine-learning philosophy](#A-bit-of-machine-learning-philosophy)<br/>\n",
    "&emsp;[Using train-test-split to test a model](#Using-train-test-split-to-test-a-model)<br/>\n",
    "&emsp;&emsp;[Split the dataset into ~75% training and ~25% testing](#Split-the-dataset-into-~75%-training-and-~25%-testing)<br/>\n",
    "&emsp;&emsp;[Train the model with the training set](#Train-the-model-with-the-training-set)<br/>\n",
    "&emsp;&emsp;[Judging the adequacy of the model using the testing set](#Judging-the-adequacy-of-the-model-using-the-testing-set)<br/>\n",
    "&emsp;[A more complex model with multiple predictors](#A-more-complex-model-with-multiple-predictors)<br/>"
   ]
  },
  {
   "cell_type": "markdown",
   "id": "hawaiian-tamil",
   "metadata": {},
   "source": [
    "## What is machine learning?\n",
    "Most educated people younger than 60 nowadays tend to have some general idea of what machine learning is, or at least what it does. In a nutshell:\n",
    "Given some input data, the computer makes a prediction about that data (i.e., a prediction that wasn't necessarily immediately obvious to a human by simply looking at the data).\n",
    "\n",
    "There are two main types of machine learning:\n",
    "+ **Supervised learning** takes a (preferrably large) set of inputs whose outcomes are known as \"training data\", and then gives predictions on novel \"test data\" based on how much it ressembles the training data. Supervised learning is itself divided into two main sub-categories:\n",
    "  + **Regression:** We want to predict one or more outcome values given one or more input values (e.g., using a slope and intercept to get the value of $y$ given $x$).\n",
    "  + **Classification**: Given some input data, we want to determine which of a number of possible types (classes) it belongs to.\n",
    "+ **Unsupervised learning** looks for patterns within the data itself, (in principle) without comparing it to anything else. This could be for example grouping some elements of the data with similar ones into clusters.\n",
    "\n",
    "In this notebook we will use linear regression to demonstrate the key principles of machine learning and working with `scikit-learn`."
   ]
  },
  {
   "cell_type": "markdown",
   "id": "infinite-kitchen",
   "metadata": {},
   "source": [
    "## Getting started\n",
    "### Checking that we're running the right environment\n",
    "As customary, I want to confirm that I'm on the `bioinfo` environment:"
   ]
  },
  {
   "cell_type": "code",
   "execution_count": 1,
   "id": "significant-working",
   "metadata": {},
   "outputs": [
    {
     "name": "stdout",
     "output_type": "stream",
     "text": [
      "bioinfo\n"
     ]
    }
   ],
   "source": [
    "!echo $CONDA_DEFAULT_ENV"
   ]
  },
  {
   "cell_type": "markdown",
   "id": "subsequent-clothing",
   "metadata": {},
   "source": [
    "### Installing scikit-learn (if you don't have it)\n",
    "Just in case you haven't installed scikit-learn yet, do the following, remembering to change the `!` to `!wsl` if you're on Windows, or remove it altogether if you're doing it on the terminal(Mac|Linux)/Anaconda-Prompt(Win):\n",
    "```python\n",
    "!conda install -y scikit-learn\n",
    "```\n",
    "I already have it, so I commented the following cell out."
   ]
  },
  {
   "cell_type": "code",
   "execution_count": 2,
   "id": "backed-gather",
   "metadata": {},
   "outputs": [],
   "source": [
    "#!conda install -y scikit-learn"
   ]
  },
  {
   "cell_type": "markdown",
   "id": "artistic-intensity",
   "metadata": {},
   "source": [
    "### Importing necessary libraries"
   ]
  },
  {
   "cell_type": "code",
   "execution_count": 3,
   "id": "independent-healing",
   "metadata": {},
   "outputs": [],
   "source": [
    "import matplotlib.pyplot as plt\n",
    "import pandas as pd\n",
    "import numpy as np\n",
    "from sklearn.model_selection import train_test_split\n",
    "from sklearn.linear_model import LinearRegression, LogisticRegression\n",
    "from sklearn.preprocessing import StandardScaler\n",
    "%matplotlib inline"
   ]
  },
  {
   "cell_type": "markdown",
   "id": "invalid-catalog",
   "metadata": {},
   "source": [
    "## Linear Regression\n",
    "Perhaps you're already rather familiar with the most straightforward (pun intended) type of machine learning: linear regression., you have a straight line and you can use the slope and intercept to predict a new value of Y given X (or vice versa).\n",
    "\n",
    "You must have download a list of country indicators that I built up from World Bank data. We can read this into `pandas`:"
   ]
  },
  {
   "cell_type": "code",
   "execution_count": 4,
   "id": "relevant-efficiency",
   "metadata": {},
   "outputs": [
    {
     "data": {
      "text/html": [
       "<div>\n",
       "<style scoped>\n",
       "    .dataframe tbody tr th:only-of-type {\n",
       "        vertical-align: middle;\n",
       "    }\n",
       "\n",
       "    .dataframe tbody tr th {\n",
       "        vertical-align: top;\n",
       "    }\n",
       "\n",
       "    .dataframe thead th {\n",
       "        text-align: right;\n",
       "    }\n",
       "</style>\n",
       "<table border=\"1\" class=\"dataframe\">\n",
       "  <thead>\n",
       "    <tr style=\"text-align: right;\">\n",
       "      <th></th>\n",
       "      <th>Country</th>\n",
       "      <th>Region</th>\n",
       "      <th>Income_Group</th>\n",
       "      <th>Population</th>\n",
       "      <th>CO2_tons_per_capita</th>\n",
       "      <th>Primary_completion_female</th>\n",
       "      <th>Primary_completion_male</th>\n",
       "      <th>LowSecondary_completion_female</th>\n",
       "      <th>LowSecondary_completion_male</th>\n",
       "      <th>pct_Women_in_Parliament</th>\n",
       "      <th>Broadband_subscs_per1k</th>\n",
       "      <th>MobileCell_subscs_per1k</th>\n",
       "      <th>GDP_per_capita_USD</th>\n",
       "      <th>GNI_per_capita_USD</th>\n",
       "      <th>Life_expectancy</th>\n",
       "    </tr>\n",
       "  </thead>\n",
       "  <tbody>\n",
       "    <tr>\n",
       "      <th>0</th>\n",
       "      <td>Afghanistan</td>\n",
       "      <td>South Asia</td>\n",
       "      <td>Low income</td>\n",
       "      <td>35383128.0</td>\n",
       "      <td>0.245101</td>\n",
       "      <td>63.604069</td>\n",
       "      <td>96.542091</td>\n",
       "      <td>36.819771</td>\n",
       "      <td>63.874481</td>\n",
       "      <td>27.710843</td>\n",
       "      <td>0.248734</td>\n",
       "      <td>610.545229</td>\n",
       "      <td>1981.112469</td>\n",
       "      <td>2000.0</td>\n",
       "      <td>63.763</td>\n",
       "    </tr>\n",
       "    <tr>\n",
       "      <th>1</th>\n",
       "      <td>Albania</td>\n",
       "      <td>Europe &amp; Central Asia</td>\n",
       "      <td>Upper middle income</td>\n",
       "      <td>2876101.0</td>\n",
       "      <td>1.577163</td>\n",
       "      <td>102.297653</td>\n",
       "      <td>97.790390</td>\n",
       "      <td>NaN</td>\n",
       "      <td>NaN</td>\n",
       "      <td>22.857143</td>\n",
       "      <td>92.618097</td>\n",
       "      <td>1171.641747</td>\n",
       "      <td>12002.931900</td>\n",
       "      <td>12200.0</td>\n",
       "      <td>78.194</td>\n",
       "    </tr>\n",
       "    <tr>\n",
       "      <th>2</th>\n",
       "      <td>Algeria</td>\n",
       "      <td>Middle East &amp; North Africa</td>\n",
       "      <td>Lower middle income</td>\n",
       "      <td>40551404.0</td>\n",
       "      <td>3.699156</td>\n",
       "      <td>105.560043</td>\n",
       "      <td>105.618858</td>\n",
       "      <td>87.665314</td>\n",
       "      <td>70.962387</td>\n",
       "      <td>31.601732</td>\n",
       "      <td>70.517164</td>\n",
       "      <td>1160.041216</td>\n",
       "      <td>11624.338990</td>\n",
       "      <td>11510.0</td>\n",
       "      <td>76.298</td>\n",
       "    </tr>\n",
       "    <tr>\n",
       "      <th>3</th>\n",
       "      <td>American Samoa</td>\n",
       "      <td>East Asia &amp; Pacific</td>\n",
       "      <td>Upper middle income</td>\n",
       "      <td>55741.0</td>\n",
       "      <td>0.000000</td>\n",
       "      <td>NaN</td>\n",
       "      <td>NaN</td>\n",
       "      <td>NaN</td>\n",
       "      <td>NaN</td>\n",
       "      <td>NaN</td>\n",
       "      <td>NaN</td>\n",
       "      <td>NaN</td>\n",
       "      <td>NaN</td>\n",
       "      <td>NaN</td>\n",
       "      <td>NaN</td>\n",
       "    </tr>\n",
       "    <tr>\n",
       "      <th>4</th>\n",
       "      <td>Andorra</td>\n",
       "      <td>Europe &amp; Central Asia</td>\n",
       "      <td>High income</td>\n",
       "      <td>77297.0</td>\n",
       "      <td>6.072370</td>\n",
       "      <td>NaN</td>\n",
       "      <td>NaN</td>\n",
       "      <td>NaN</td>\n",
       "      <td>NaN</td>\n",
       "      <td>32.142857</td>\n",
       "      <td>420.326792</td>\n",
       "      <td>984.928264</td>\n",
       "      <td>NaN</td>\n",
       "      <td>NaN</td>\n",
       "      <td>NaN</td>\n",
       "    </tr>\n",
       "  </tbody>\n",
       "</table>\n",
       "</div>"
      ],
      "text/plain": [
       "          Country                      Region         Income_Group  \\\n",
       "0     Afghanistan                  South Asia           Low income   \n",
       "1         Albania       Europe & Central Asia  Upper middle income   \n",
       "2         Algeria  Middle East & North Africa  Lower middle income   \n",
       "3  American Samoa         East Asia & Pacific  Upper middle income   \n",
       "4         Andorra       Europe & Central Asia          High income   \n",
       "\n",
       "   Population  CO2_tons_per_capita  Primary_completion_female  \\\n",
       "0  35383128.0             0.245101                  63.604069   \n",
       "1   2876101.0             1.577163                 102.297653   \n",
       "2  40551404.0             3.699156                 105.560043   \n",
       "3     55741.0             0.000000                        NaN   \n",
       "4     77297.0             6.072370                        NaN   \n",
       "\n",
       "   Primary_completion_male  LowSecondary_completion_female  \\\n",
       "0                96.542091                       36.819771   \n",
       "1                97.790390                             NaN   \n",
       "2               105.618858                       87.665314   \n",
       "3                      NaN                             NaN   \n",
       "4                      NaN                             NaN   \n",
       "\n",
       "   LowSecondary_completion_male  pct_Women_in_Parliament  \\\n",
       "0                     63.874481                27.710843   \n",
       "1                           NaN                22.857143   \n",
       "2                     70.962387                31.601732   \n",
       "3                           NaN                      NaN   \n",
       "4                           NaN                32.142857   \n",
       "\n",
       "   Broadband_subscs_per1k  MobileCell_subscs_per1k  GDP_per_capita_USD  \\\n",
       "0                0.248734               610.545229         1981.112469   \n",
       "1               92.618097              1171.641747        12002.931900   \n",
       "2               70.517164              1160.041216        11624.338990   \n",
       "3                     NaN                      NaN                 NaN   \n",
       "4              420.326792               984.928264                 NaN   \n",
       "\n",
       "   GNI_per_capita_USD  Life_expectancy  \n",
       "0              2000.0           63.763  \n",
       "1             12200.0           78.194  \n",
       "2             11510.0           76.298  \n",
       "3                 NaN              NaN  \n",
       "4                 NaN              NaN  "
      ]
     },
     "execution_count": 4,
     "metadata": {},
     "output_type": "execute_result"
    }
   ],
   "source": [
    "df =  pd.read_csv('WB_indicators_2016.csv')\n",
    "df.head()"
   ]
  },
  {
   "cell_type": "markdown",
   "id": "weekly-district",
   "metadata": {},
   "source": [
    "It seems we have a lot of missing values (`NaN`). That's not good for scikit-learn, which needs existing data in all cells. We will therefore have to create clean dataframes for each of our analyses.\n",
    "\n",
    "We can show the number of rows with missing data for each column in the following way:"
   ]
  },
  {
   "cell_type": "code",
   "execution_count": 5,
   "id": "invisible-sierra",
   "metadata": {},
   "outputs": [
    {
     "data": {
      "text/plain": [
       "Country                            0\n",
       "Region                             0\n",
       "Income_Group                       0\n",
       "Population                         1\n",
       "CO2_tons_per_capita                0\n",
       "Primary_completion_female         84\n",
       "Primary_completion_male           84\n",
       "LowSecondary_completion_female    94\n",
       "LowSecondary_completion_male      94\n",
       "pct_Women_in_Parliament           25\n",
       "Broadband_subscs_per1k            12\n",
       "MobileCell_subscs_per1k           10\n",
       "GDP_per_capita_USD                24\n",
       "GNI_per_capita_USD                25\n",
       "Life_expectancy                   16\n",
       "dtype: int64"
      ]
     },
     "execution_count": 5,
     "metadata": {},
     "output_type": "execute_result"
    }
   ],
   "source": [
    "df.isnull().sum()"
   ]
  },
  {
   "cell_type": "markdown",
   "id": "beneficial-beast",
   "metadata": {},
   "source": [
    "### Creating a filtered dataframe\n",
    "We will create a new dataframe called `dfr` containing only the desired columns for this regression (plus country names, just in case). We do this because we'll need to drop the `NaN`s before running the model in `scikit-learn`, and we don't want to alter the original dataframe.\n",
    "\n",
    "Let's say we want to build a model that allows us to predict the **life expectancy** of a country by **how many mobile-phone subscriptions** there are in that country. This may seem a little ridiculous, and to a point it is – although a case can certainly be made that more technology correlates with wealth which correlates with health which correlates with life expectancy. Let's take a look anyway."
   ]
  },
  {
   "cell_type": "code",
   "execution_count": 6,
   "id": "republican-offer",
   "metadata": {},
   "outputs": [
    {
     "data": {
      "text/html": [
       "<div>\n",
       "<style scoped>\n",
       "    .dataframe tbody tr th:only-of-type {\n",
       "        vertical-align: middle;\n",
       "    }\n",
       "\n",
       "    .dataframe tbody tr th {\n",
       "        vertical-align: top;\n",
       "    }\n",
       "\n",
       "    .dataframe thead th {\n",
       "        text-align: right;\n",
       "    }\n",
       "</style>\n",
       "<table border=\"1\" class=\"dataframe\">\n",
       "  <thead>\n",
       "    <tr style=\"text-align: right;\">\n",
       "      <th></th>\n",
       "      <th>Country</th>\n",
       "      <th>MobileCell_subscs_per1k</th>\n",
       "      <th>Life_expectancy</th>\n",
       "    </tr>\n",
       "  </thead>\n",
       "  <tbody>\n",
       "    <tr>\n",
       "      <th>0</th>\n",
       "      <td>Afghanistan</td>\n",
       "      <td>610.545229</td>\n",
       "      <td>63.763000</td>\n",
       "    </tr>\n",
       "    <tr>\n",
       "      <th>1</th>\n",
       "      <td>Albania</td>\n",
       "      <td>1171.641747</td>\n",
       "      <td>78.194000</td>\n",
       "    </tr>\n",
       "    <tr>\n",
       "      <th>2</th>\n",
       "      <td>Algeria</td>\n",
       "      <td>1160.041216</td>\n",
       "      <td>76.298000</td>\n",
       "    </tr>\n",
       "    <tr>\n",
       "      <th>3</th>\n",
       "      <td>American Samoa</td>\n",
       "      <td>NaN</td>\n",
       "      <td>NaN</td>\n",
       "    </tr>\n",
       "    <tr>\n",
       "      <th>4</th>\n",
       "      <td>Andorra</td>\n",
       "      <td>984.928264</td>\n",
       "      <td>NaN</td>\n",
       "    </tr>\n",
       "    <tr>\n",
       "      <th>...</th>\n",
       "      <td>...</td>\n",
       "      <td>...</td>\n",
       "      <td>...</td>\n",
       "    </tr>\n",
       "    <tr>\n",
       "      <th>212</th>\n",
       "      <td>Virgin Islands (U.S.)</td>\n",
       "      <td>NaN</td>\n",
       "      <td>79.268293</td>\n",
       "    </tr>\n",
       "    <tr>\n",
       "      <th>213</th>\n",
       "      <td>West Bank and Gaza</td>\n",
       "      <td>850.266814</td>\n",
       "      <td>73.589000</td>\n",
       "    </tr>\n",
       "    <tr>\n",
       "      <th>214</th>\n",
       "      <td>Yemen, Rep.</td>\n",
       "      <td>604.865024</td>\n",
       "      <td>66.087000</td>\n",
       "    </tr>\n",
       "    <tr>\n",
       "      <th>215</th>\n",
       "      <td>Zambia</td>\n",
       "      <td>734.378028</td>\n",
       "      <td>62.464000</td>\n",
       "    </tr>\n",
       "    <tr>\n",
       "      <th>216</th>\n",
       "      <td>Zimbabwe</td>\n",
       "      <td>917.928867</td>\n",
       "      <td>60.294000</td>\n",
       "    </tr>\n",
       "  </tbody>\n",
       "</table>\n",
       "<p>217 rows × 3 columns</p>\n",
       "</div>"
      ],
      "text/plain": [
       "                   Country  MobileCell_subscs_per1k  Life_expectancy\n",
       "0              Afghanistan               610.545229        63.763000\n",
       "1                  Albania              1171.641747        78.194000\n",
       "2                  Algeria              1160.041216        76.298000\n",
       "3           American Samoa                      NaN              NaN\n",
       "4                  Andorra               984.928264              NaN\n",
       "..                     ...                      ...              ...\n",
       "212  Virgin Islands (U.S.)                      NaN        79.268293\n",
       "213     West Bank and Gaza               850.266814        73.589000\n",
       "214            Yemen, Rep.               604.865024        66.087000\n",
       "215                 Zambia               734.378028        62.464000\n",
       "216               Zimbabwe               917.928867        60.294000\n",
       "\n",
       "[217 rows x 3 columns]"
      ]
     },
     "execution_count": 6,
     "metadata": {},
     "output_type": "execute_result"
    }
   ],
   "source": [
    "xcol = 'MobileCell_subscs_per1k'\n",
    "ycol = 'Life_expectancy'\n",
    "\n",
    "# Let's create \n",
    "dfr = df[['Country', xcol, ycol]]\n",
    "dfr"
   ]
  },
  {
   "cell_type": "markdown",
   "id": "aerial-impression",
   "metadata": {},
   "source": [
    "## Removing missing values from the pandas dataframe\n",
    "We still have a lot of `NaN`s, so let's clear them:"
   ]
  },
  {
   "cell_type": "code",
   "execution_count": 7,
   "id": "stylish-navigation",
   "metadata": {},
   "outputs": [
    {
     "data": {
      "text/html": [
       "<div>\n",
       "<style scoped>\n",
       "    .dataframe tbody tr th:only-of-type {\n",
       "        vertical-align: middle;\n",
       "    }\n",
       "\n",
       "    .dataframe tbody tr th {\n",
       "        vertical-align: top;\n",
       "    }\n",
       "\n",
       "    .dataframe thead th {\n",
       "        text-align: right;\n",
       "    }\n",
       "</style>\n",
       "<table border=\"1\" class=\"dataframe\">\n",
       "  <thead>\n",
       "    <tr style=\"text-align: right;\">\n",
       "      <th></th>\n",
       "      <th>Country</th>\n",
       "      <th>MobileCell_subscs_per1k</th>\n",
       "      <th>Life_expectancy</th>\n",
       "    </tr>\n",
       "  </thead>\n",
       "  <tbody>\n",
       "    <tr>\n",
       "      <th>0</th>\n",
       "      <td>Afghanistan</td>\n",
       "      <td>610.545229</td>\n",
       "      <td>63.763</td>\n",
       "    </tr>\n",
       "    <tr>\n",
       "      <th>1</th>\n",
       "      <td>Albania</td>\n",
       "      <td>1171.641747</td>\n",
       "      <td>78.194</td>\n",
       "    </tr>\n",
       "    <tr>\n",
       "      <th>2</th>\n",
       "      <td>Algeria</td>\n",
       "      <td>1160.041216</td>\n",
       "      <td>76.298</td>\n",
       "    </tr>\n",
       "    <tr>\n",
       "      <th>5</th>\n",
       "      <td>Angola</td>\n",
       "      <td>450.762147</td>\n",
       "      <td>59.925</td>\n",
       "    </tr>\n",
       "    <tr>\n",
       "      <th>6</th>\n",
       "      <td>Antigua and Barbuda</td>\n",
       "      <td>1904.217843</td>\n",
       "      <td>76.617</td>\n",
       "    </tr>\n",
       "    <tr>\n",
       "      <th>...</th>\n",
       "      <td>...</td>\n",
       "      <td>...</td>\n",
       "      <td>...</td>\n",
       "    </tr>\n",
       "    <tr>\n",
       "      <th>211</th>\n",
       "      <td>Vietnam</td>\n",
       "      <td>1287.928699</td>\n",
       "      <td>75.172</td>\n",
       "    </tr>\n",
       "    <tr>\n",
       "      <th>213</th>\n",
       "      <td>West Bank and Gaza</td>\n",
       "      <td>850.266814</td>\n",
       "      <td>73.589</td>\n",
       "    </tr>\n",
       "    <tr>\n",
       "      <th>214</th>\n",
       "      <td>Yemen, Rep.</td>\n",
       "      <td>604.865024</td>\n",
       "      <td>66.087</td>\n",
       "    </tr>\n",
       "    <tr>\n",
       "      <th>215</th>\n",
       "      <td>Zambia</td>\n",
       "      <td>734.378028</td>\n",
       "      <td>62.464</td>\n",
       "    </tr>\n",
       "    <tr>\n",
       "      <th>216</th>\n",
       "      <td>Zimbabwe</td>\n",
       "      <td>917.928867</td>\n",
       "      <td>60.294</td>\n",
       "    </tr>\n",
       "  </tbody>\n",
       "</table>\n",
       "<p>195 rows × 3 columns</p>\n",
       "</div>"
      ],
      "text/plain": [
       "                 Country  MobileCell_subscs_per1k  Life_expectancy\n",
       "0            Afghanistan               610.545229           63.763\n",
       "1                Albania              1171.641747           78.194\n",
       "2                Algeria              1160.041216           76.298\n",
       "5                 Angola               450.762147           59.925\n",
       "6    Antigua and Barbuda              1904.217843           76.617\n",
       "..                   ...                      ...              ...\n",
       "211              Vietnam              1287.928699           75.172\n",
       "213   West Bank and Gaza               850.266814           73.589\n",
       "214          Yemen, Rep.               604.865024           66.087\n",
       "215               Zambia               734.378028           62.464\n",
       "216             Zimbabwe               917.928867           60.294\n",
       "\n",
       "[195 rows x 3 columns]"
      ]
     },
     "execution_count": 7,
     "metadata": {},
     "output_type": "execute_result"
    }
   ],
   "source": [
    "dfr = dfr.dropna(how='any')\n",
    "dfr"
   ]
  },
  {
   "cell_type": "markdown",
   "id": "incredible-accordance",
   "metadata": {},
   "source": [
    "You'll see that `American Samoa` and `Andorra`, which didn't have a value for cellphone subscriptions, have been dropped from the dataframe, as have all the other rows that didn't have a value in our chosen columns. That's why our new dataframe has only `201` columns, as opposed to `217` before."
   ]
  },
  {
   "cell_type": "markdown",
   "id": "based-expense",
   "metadata": {},
   "source": [
    "### Visualising the columns\n",
    "Before we go any farther, let's take a look at what we're regressing – **It's always a very good idea to plot your data before you run any models on it**."
   ]
  },
  {
   "cell_type": "code",
   "execution_count": 8,
   "id": "searching-operator",
   "metadata": {},
   "outputs": [
    {
     "data": {
      "image/png": "[encoded data removed]",
      "text/plain": [
       "<Figure size 432x288 with 1 Axes>"
      ]
     },
     "metadata": {
      "needs_background": "light"
     },
     "output_type": "display_data"
    }
   ],
   "source": [
    "plt.plot(dfr[xcol], dfr[ycol], '.')\n",
    "plt.xlabel(xcol)\n",
    "plt.ylabel(ycol)\n",
    "plt.show()"
   ]
  },
  {
   "cell_type": "markdown",
   "id": "demonstrated-template",
   "metadata": {},
   "source": [
    "...well... I'm not too sure how great a linear relationship this will be, but let's see."
   ]
  },
  {
   "cell_type": "markdown",
   "id": "mediterranean-somalia",
   "metadata": {},
   "source": [
    "### Building the linear regression model\n",
    "Now we can build a linear regression model using scikit-learn's `LinearRegression` module, which we imported at the beginning of this notebook."
   ]
  },
  {
   "cell_type": "code",
   "execution_count": 9,
   "id": "measured-nigeria",
   "metadata": {},
   "outputs": [],
   "source": [
    "linreg = LinearRegression(fit_intercept=True)"
   ]
  },
  {
   "cell_type": "markdown",
   "id": "maritime-spouse",
   "metadata": {},
   "source": [
    "We must extract our data in the appropriate shape, which must be an $n\\times1$ array:"
   ]
  },
  {
   "cell_type": "code",
   "execution_count": 10,
   "id": "amber-dressing",
   "metadata": {},
   "outputs": [],
   "source": [
    "x = dfr.loc[:, [xcol]].values\n",
    "y = dfr.loc[:, [ycol]].values"
   ]
  },
  {
   "cell_type": "markdown",
   "id": "tender-glass",
   "metadata": {},
   "source": [
    "And now we can fit our model using the data:"
   ]
  },
  {
   "cell_type": "code",
   "execution_count": 11,
   "id": "quiet-yemen",
   "metadata": {},
   "outputs": [
    {
     "data": {
      "text/plain": [
       "LinearRegression()"
      ]
     },
     "execution_count": 11,
     "metadata": {},
     "output_type": "execute_result"
    }
   ],
   "source": [
    "linreg.fit(x, y)"
   ]
  },
  {
   "cell_type": "markdown",
   "id": "general-range",
   "metadata": {},
   "source": []
  },
  {
   "cell_type": "code",
   "execution_count": 12,
   "id": "aggregate-assurance",
   "metadata": {},
   "outputs": [
    {
     "name": "stdout",
     "output_type": "stream",
     "text": [
      "The equation of the linear regression (y = mx + b) is:\n",
      "\n",
      "\ty = 0.010x + 61.179\n",
      "\n"
     ]
    }
   ],
   "source": [
    "# For y = mx + b:\n",
    "m = linreg.coef_[0][0]\n",
    "b = linreg.intercept_[0]\n",
    "\n",
    "print(\"The equation of the linear regression (y = mx + b) is:\\n\")\n",
    "print(f\"\\ty = {m:0.3f}x + {b:0.3f}\\n\")"
   ]
  },
  {
   "cell_type": "markdown",
   "id": "polished-furniture",
   "metadata": {},
   "source": [
    "And we can now use this to plot the line:"
   ]
  },
  {
   "cell_type": "code",
   "execution_count": 13,
   "id": "moderate-classification",
   "metadata": {},
   "outputs": [
    {
     "data": {
      "text/plain": [
       "array([ 142.4860312 ,  173.51661836,  204.54720552,  235.57779268,\n",
       "        266.60837984,  297.638967  ,  328.66955416,  359.70014132,\n",
       "        390.73072848,  421.76131564,  452.7919028 ,  483.82248996,\n",
       "        514.85307712,  545.88366427,  576.91425143,  607.94483859,\n",
       "        638.97542575,  670.00601291,  701.03660007,  732.06718723,\n",
       "        763.09777439,  794.12836155,  825.15894871,  856.18953587,\n",
       "        887.22012303,  918.25071019,  949.28129735,  980.31188451,\n",
       "       1011.34247167, 1042.37305883, 1073.40364599, 1104.43423315,\n",
       "       1135.46482031, 1166.49540747, 1197.52599463, 1228.55658179,\n",
       "       1259.58716895, 1290.61775611, 1321.64834326, 1352.67893042,\n",
       "       1383.70951758, 1414.74010474, 1445.7706919 , 1476.80127906,\n",
       "       1507.83186622, 1538.86245338, 1569.89304054, 1600.9236277 ,\n",
       "       1631.95421486, 1662.98480202, 1694.01538918, 1725.04597634,\n",
       "       1756.0765635 , 1787.10715066, 1818.13773782, 1849.16832498,\n",
       "       1880.19891214, 1911.2294993 , 1942.26008646, 1973.29067362,\n",
       "       2004.32126078, 2035.35184794, 2066.38243509, 2097.41302225,\n",
       "       2128.44360941, 2159.47419657, 2190.50478373, 2221.53537089,\n",
       "       2252.56595805, 2283.59654521, 2314.62713237, 2345.65771953,\n",
       "       2376.68830669, 2407.71889385, 2438.74948101, 2469.78006817,\n",
       "       2500.81065533, 2531.84124249, 2562.87182965, 2593.90241681,\n",
       "       2624.93300397, 2655.96359113, 2686.99417829, 2718.02476545,\n",
       "       2749.05535261, 2780.08593977, 2811.11652693, 2842.14711408,\n",
       "       2873.17770124, 2904.2082884 , 2935.23887556, 2966.26946272,\n",
       "       2997.30004988, 3028.33063704, 3059.3612242 , 3090.39181136,\n",
       "       3121.42239852, 3152.45298568, 3183.48357284, 3214.51416   ])"
      ]
     },
     "execution_count": 13,
     "metadata": {},
     "output_type": "execute_result"
    }
   ],
   "source": [
    "np.linspace(min(x)[0],max(x)[0],100)"
   ]
  },
  {
   "cell_type": "code",
   "execution_count": 14,
   "id": "favorite-category",
   "metadata": {},
   "outputs": [
    {
     "data": {
      "image/png": "[encoded data removed]",
      "text/plain": [
       "<Figure size 432x288 with 1 Axes>"
      ]
     },
     "metadata": {
      "needs_background": "light"
     },
     "output_type": "display_data"
    }
   ],
   "source": [
    "# Add the dots\n",
    "plt.plot(dfr[xcol], dfr[ycol], '.')\n",
    "\n",
    "# Add a line\n",
    "xvals = np.linspace(min(x),max(x),100)\n",
    "yvals = xvals*m + b\n",
    "plt.plot(xvals, yvals, '--')\n",
    "\n",
    "# Add the labels\n",
    "plt.xlabel(xcol)\n",
    "plt.ylabel(ycol)\n",
    "\n",
    "# And show\n",
    "plt.show()"
   ]
  },
  {
   "cell_type": "markdown",
   "id": "sacred-amendment",
   "metadata": {},
   "source": [
    "A horrendous fit for sure. Let's take a look at the $R^2$."
   ]
  },
  {
   "cell_type": "code",
   "execution_count": 15,
   "id": "fantastic-cooper",
   "metadata": {},
   "outputs": [
    {
     "name": "stdout",
     "output_type": "stream",
     "text": [
      "0.2808444705695229\n"
     ]
    }
   ],
   "source": [
    "r2 = linreg.score(x, y)\n",
    "print(r2)"
   ]
  },
  {
   "cell_type": "markdown",
   "id": "single-interview",
   "metadata": {},
   "source": [
    "Ow well, That wasn't too good, but there you have it."
   ]
  },
  {
   "cell_type": "markdown",
   "id": "welsh-playing",
   "metadata": {},
   "source": [
    "## Predicting values using the model fit\n",
    "Let's say you still want to press on with your rather questionable idea that mobile cell subscriptions are a great _linear_ predictor of life expectancy. We could now use this model, which we fit above using available countries, to predict life expectancy in other countries not included in our original list, for example, here is the mobile usage in a few lands not included above:"
   ]
  },
  {
   "cell_type": "code",
   "execution_count": 16,
   "id": "every-accent",
   "metadata": {},
   "outputs": [],
   "source": [
    "new_countries = {\n",
    "    #'Country'   : mobile_cell_subscriptions\n",
    "    'Loompaland' :  572,\n",
    "    'Mordor'     : 1655,\n",
    "    'Neverland'  :  127,\n",
    "    'Atlantis'   : 2152,\n",
    "}\n",
    "\n",
    "new_x_vals = [ [val] for val in new_countries.values() ]"
   ]
  },
  {
   "cell_type": "code",
   "execution_count": 17,
   "id": "perfect-haiti",
   "metadata": {},
   "outputs": [
    {
     "name": "stdout",
     "output_type": "stream",
     "text": [
      "[[67.01078054]\n",
      " [78.0514927 ]\n",
      " [62.47419982]\n",
      " [83.11819071]]\n"
     ]
    }
   ],
   "source": [
    "new_y_vals = linreg.predict(new_x_vals)\n",
    "print(new_y_vals)"
   ]
  },
  {
   "cell_type": "code",
   "execution_count": 18,
   "id": "immune-street",
   "metadata": {},
   "outputs": [
    {
     "name": "stdout",
     "output_type": "stream",
     "text": [
      "572 67.01078053684344 Loompaland\n",
      "1655 78.05149269949487 Mordor\n",
      "127 62.47419982365795 Neverland\n",
      "2152 83.11819070950203 Atlantis\n"
     ]
    }
   ],
   "source": [
    "for i, country in enumerate(new_countries.keys()):\n",
    "    print(new_x_vals[i][0], new_y_vals[i][0], country)"
   ]
  },
  {
   "cell_type": "code",
   "execution_count": 19,
   "id": "tropical-footwear",
   "metadata": {},
   "outputs": [
    {
     "data": {
      "image/png": "[encoded data removed]",
      "text/plain": [
       "<Figure size 432x288 with 1 Axes>"
      ]
     },
     "metadata": {
      "needs_background": "light"
     },
     "output_type": "display_data"
    }
   ],
   "source": [
    "# Add the TRAINING dots\n",
    "plt.plot(dfr[xcol], dfr[ycol], '.')\n",
    "\n",
    "# Add a line\n",
    "xvals = np.linspace(min(x),max(x),100)\n",
    "yvals = xvals*m + b\n",
    "plt.plot(xvals, yvals, '--')\n",
    "\n",
    "# Add the PREDICTED dots\n",
    "plt.plot(new_x_vals, new_y_vals, 'ro') # 'ro' means red big circles\n",
    "# And the names of the countries\n",
    "for i, country in enumerate(new_countries.keys()):\n",
    "    plt.text(new_x_vals[i][0], new_y_vals[i][0], country)\n",
    "    \n",
    "# Add the labels\n",
    "plt.xlabel(xcol)\n",
    "plt.ylabel(ycol)\n",
    "\n",
    "# And show\n",
    "plt.show()"
   ]
  },
  {
   "cell_type": "markdown",
   "id": "secondary-chain",
   "metadata": {},
   "source": [
    "Clearly, our model is not a good fit. **Mordor** may be very high on technology, but it is well known that its citizens don't get to live very long lives.\n",
    "\n",
    "I deliberately chose a terrible model here. There are multiple reasons why this is bad, not only because the predictor is not a great one, but also because life expectancy cannot possibly increase linearly, regardless of what the predictor is.\n",
    "\n",
    "The key take-home message here is: **you need to choose the appropriate model _and_ the appropriate predictor(s) for your data**. This is far from trivial."
   ]
  },
  {
   "cell_type": "markdown",
   "id": "noble-clarity",
   "metadata": {},
   "source": [
    "## A bit of machine-learning philosophy\n",
    "I don't suppose I need to labour this point, but: **correlation does not imply causation**. Yet, to a point, machine learning just shrugs its shoulders at that statement and says **_Sure, but who cares?!_**. The fact is, for many machine-learning applications, it doesn't really matter _why_ you can predict something as long as you can predict it _reliably_. You can always then go back and try to figure out why [margarine consumption would correlate with divorce rates](https://tylervigen.com/spurious-correlations), or whatever. The answer may be:\n",
    "+ **a)** The two factors correlate simply because of pure luck, and I shouldn't use them as predictors of each other because there's no reason to think they'll still correlate in the future.\n",
    "+ **b)** They truly do correlate because of direct causal reasons; there is a legitimate, driving connection between the two that I haven't discovered yet.\n",
    "+ **c)** They correlate only because something else causes both things to vary similarly, but they themselves are entirely unrelated.\n",
    "\n",
    "The last one is interesting: The fact that two things correlate because of an underlying cause that is unknown doesn't mean the two known factors are any less useful as predictors of each other. If the connection to the true causal factor is solid in both cases, then the two affected values can be reliable predictors of each other, even if we ignore the true cause of the connection. This may not be great hypothesis-based science, but it is darn useful for machine-learning and in scenarios such as health and finance."
   ]
  },
  {
   "cell_type": "markdown",
   "id": "bizarre-commodity",
   "metadata": {},
   "source": [
    "## Using `train-test-split` to test a model\n",
    "In the last example we made up a few countries to test our model. However, in a more realistic scenario, you will want to make sure your model is making adequate predictions before you run it on unknown data."
   ]
  },
  {
   "cell_type": "markdown",
   "id": "foreign-october",
   "metadata": {},
   "source": [
    "Let's do a more reasonable prediction here. Let's try seeing how life expectancy correlates with how likely (on average) girls in a country are to complete the lower part of secondary school.\n",
    "\n",
    "We first extract the desired columns and create the filtered dataframe:"
   ]
  },
  {
   "cell_type": "code",
   "execution_count": 20,
   "id": "robust-peace",
   "metadata": {},
   "outputs": [
    {
     "data": {
      "text/html": [
       "<div>\n",
       "<style scoped>\n",
       "    .dataframe tbody tr th:only-of-type {\n",
       "        vertical-align: middle;\n",
       "    }\n",
       "\n",
       "    .dataframe tbody tr th {\n",
       "        vertical-align: top;\n",
       "    }\n",
       "\n",
       "    .dataframe thead th {\n",
       "        text-align: right;\n",
       "    }\n",
       "</style>\n",
       "<table border=\"1\" class=\"dataframe\">\n",
       "  <thead>\n",
       "    <tr style=\"text-align: right;\">\n",
       "      <th></th>\n",
       "      <th>Country</th>\n",
       "      <th>LowSecondary_completion_female</th>\n",
       "      <th>Life_expectancy</th>\n",
       "    </tr>\n",
       "  </thead>\n",
       "  <tbody>\n",
       "    <tr>\n",
       "      <th>0</th>\n",
       "      <td>Afghanistan</td>\n",
       "      <td>36.819771</td>\n",
       "      <td>63.763000</td>\n",
       "    </tr>\n",
       "    <tr>\n",
       "      <th>1</th>\n",
       "      <td>Albania</td>\n",
       "      <td>NaN</td>\n",
       "      <td>78.194000</td>\n",
       "    </tr>\n",
       "    <tr>\n",
       "      <th>2</th>\n",
       "      <td>Algeria</td>\n",
       "      <td>87.665314</td>\n",
       "      <td>76.298000</td>\n",
       "    </tr>\n",
       "    <tr>\n",
       "      <th>3</th>\n",
       "      <td>American Samoa</td>\n",
       "      <td>NaN</td>\n",
       "      <td>NaN</td>\n",
       "    </tr>\n",
       "    <tr>\n",
       "      <th>4</th>\n",
       "      <td>Andorra</td>\n",
       "      <td>NaN</td>\n",
       "      <td>NaN</td>\n",
       "    </tr>\n",
       "    <tr>\n",
       "      <th>...</th>\n",
       "      <td>...</td>\n",
       "      <td>...</td>\n",
       "      <td>...</td>\n",
       "    </tr>\n",
       "    <tr>\n",
       "      <th>212</th>\n",
       "      <td>Virgin Islands (U.S.)</td>\n",
       "      <td>NaN</td>\n",
       "      <td>79.268293</td>\n",
       "    </tr>\n",
       "    <tr>\n",
       "      <th>213</th>\n",
       "      <td>West Bank and Gaza</td>\n",
       "      <td>88.554771</td>\n",
       "      <td>73.589000</td>\n",
       "    </tr>\n",
       "    <tr>\n",
       "      <th>214</th>\n",
       "      <td>Yemen, Rep.</td>\n",
       "      <td>45.206539</td>\n",
       "      <td>66.087000</td>\n",
       "    </tr>\n",
       "    <tr>\n",
       "      <th>215</th>\n",
       "      <td>Zambia</td>\n",
       "      <td>NaN</td>\n",
       "      <td>62.464000</td>\n",
       "    </tr>\n",
       "    <tr>\n",
       "      <th>216</th>\n",
       "      <td>Zimbabwe</td>\n",
       "      <td>NaN</td>\n",
       "      <td>60.294000</td>\n",
       "    </tr>\n",
       "  </tbody>\n",
       "</table>\n",
       "<p>217 rows × 3 columns</p>\n",
       "</div>"
      ],
      "text/plain": [
       "                   Country  LowSecondary_completion_female  Life_expectancy\n",
       "0              Afghanistan                       36.819771        63.763000\n",
       "1                  Albania                             NaN        78.194000\n",
       "2                  Algeria                       87.665314        76.298000\n",
       "3           American Samoa                             NaN              NaN\n",
       "4                  Andorra                             NaN              NaN\n",
       "..                     ...                             ...              ...\n",
       "212  Virgin Islands (U.S.)                             NaN        79.268293\n",
       "213     West Bank and Gaza                       88.554771        73.589000\n",
       "214            Yemen, Rep.                       45.206539        66.087000\n",
       "215                 Zambia                             NaN        62.464000\n",
       "216               Zimbabwe                             NaN        60.294000\n",
       "\n",
       "[217 rows x 3 columns]"
      ]
     },
     "execution_count": 20,
     "metadata": {},
     "output_type": "execute_result"
    }
   ],
   "source": [
    "xcol = 'LowSecondary_completion_female'#'Primary_completion_female'\n",
    "ycol = 'Life_expectancy'#'LowSecondary_completion_female'\n",
    "\n",
    "# Let's create the working dataframe\n",
    "dfr = df[['Country', xcol, ycol]]\n",
    "dfr"
   ]
  },
  {
   "cell_type": "markdown",
   "id": "opened-southwest",
   "metadata": {},
   "source": [
    "As before, let's plot before we do anything:"
   ]
  },
  {
   "cell_type": "code",
   "execution_count": 21,
   "id": "orange-coalition",
   "metadata": {},
   "outputs": [
    {
     "data": {
      "image/png": "[encoded data removed]",
      "text/plain": [
       "<Figure size 432x288 with 1 Axes>"
      ]
     },
     "metadata": {
      "needs_background": "light"
     },
     "output_type": "display_data"
    }
   ],
   "source": [
    "# Add the dots\n",
    "plt.plot(dfr[xcol], dfr[ycol], '.')\n",
    "\n",
    "# Add the labels\n",
    "plt.xlabel(xcol)\n",
    "plt.ylabel(ycol)\n",
    "\n",
    "# And show\n",
    "plt.show()"
   ]
  },
  {
   "cell_type": "markdown",
   "id": "thirty-nerve",
   "metadata": {},
   "source": [
    "This looks better than the mobile-phone plot.\n",
    "\n",
    "As you can see, `matplotlib` just ignores the `NaN`s, but `scikit-learn` breaks if they are there, so let's drop them:"
   ]
  },
  {
   "cell_type": "code",
   "execution_count": 22,
   "id": "great-worcester",
   "metadata": {},
   "outputs": [],
   "source": [
    "dfr = dfr.dropna(how='any')"
   ]
  },
  {
   "cell_type": "markdown",
   "id": "excessive-reason",
   "metadata": {},
   "source": [
    "And now we could run the model with the whole data as above, but if we did that we'd be left without any way to test how accurate it is. Instead, let's split our data into a **training** set (traditionally 75% of the data is chosen to train the model) and a **testing** set (traditionally the remaining 25%).\n",
    "\n",
    "After splitting our data, we will train the model with the training set, and then testing with the testing set (surprise!). We will then be ready to receive novel data."
   ]
  },
  {
   "cell_type": "markdown",
   "id": "liquid-typing",
   "metadata": {},
   "source": [
    "### Split the dataset into ~75% training and ~25% testing"
   ]
  },
  {
   "cell_type": "code",
   "execution_count": 23,
   "id": "acute-example",
   "metadata": {},
   "outputs": [
    {
     "name": "stdout",
     "output_type": "stream",
     "text": [
      "146 49\n",
      "146 49\n"
     ]
    }
   ],
   "source": [
    "xtrain, xtest, ytrain, ytest = train_test_split(x, y)\n",
    "# Let's take a look at the lengths of each of the sets:\n",
    "print(len(xtrain), len(xtest))\n",
    "print(len(xtrain), len(xtest))"
   ]
  },
  {
   "cell_type": "markdown",
   "id": "organizational-fellow",
   "metadata": {},
   "source": [
    "That's as close to `75%:25%` as you can get with this dataset."
   ]
  },
  {
   "cell_type": "markdown",
   "id": "express-council",
   "metadata": {},
   "source": [
    "### Train the model with the training set\n",
    "Good, now that we have a training set with `89` out of the `119` samples, we can train our model just like we did above, but using only the training set:"
   ]
  },
  {
   "cell_type": "code",
   "execution_count": 24,
   "id": "satisfactory-bahrain",
   "metadata": {},
   "outputs": [
    {
     "name": "stdout",
     "output_type": "stream",
     "text": [
      "The equation of the linear regression (y = mx + b) is:\n",
      "\n",
      "\ty = 0.009x + 62.432\n",
      "\n",
      "with an r2 of 0.24786334194551363\n"
     ]
    }
   ],
   "source": [
    "# We first declare an instance of the model\n",
    "linreg = LinearRegression(fit_intercept=True)\n",
    "\n",
    "# Fit the model to the data\n",
    "linreg.fit(xtrain, ytrain)\n",
    "\n",
    "# Get the intercept (b) and slope (m) as y = mx + b:\n",
    "m = linreg.coef_[0][0]\n",
    "b = linreg.intercept_[0]\n",
    "\n",
    "print(\"The equation of the linear regression (y = mx + b) is:\\n\")\n",
    "print(f\"\\ty = {m:0.3f}x + {b:0.3f}\\n\")\n",
    "print(f\"with an r2 of {linreg.score(xtrain, ytrain)}\")"
   ]
  },
  {
   "cell_type": "markdown",
   "id": "august-probability",
   "metadata": {},
   "source": [
    "### Judging the adequacy of the model using the testing set\n",
    "Now that we have a model and know how it `score`s with its own data, let's check how it fares with the test data:"
   ]
  },
  {
   "cell_type": "code",
   "execution_count": 25,
   "id": "julian-setting",
   "metadata": {},
   "outputs": [
    {
     "name": "stdout",
     "output_type": "stream",
     "text": [
      "The r2 with the testing data is 0.3545175484011268\n"
     ]
    }
   ],
   "source": [
    "print(f\"The r2 with the testing data is {linreg.score(xtest, ytest)}\")"
   ]
  },
  {
   "cell_type": "markdown",
   "id": "dynamic-marijuana",
   "metadata": {},
   "source": [
    "Great! That looks pretty good. We're ready to now test with _real-World_ data, pun very much intended: we can take any countries that have a `LowSecondary_completion_female` but no `Life_expectancy` and predict the latter using our model (or we could do the opposite too)."
   ]
  },
  {
   "cell_type": "markdown",
   "id": "chemical-documentary",
   "metadata": {},
   "source": [
    "## A more complex model with multiple predictors\n",
    "So far we have been using simple one-to-one predictions, but there is absolutely no reason we need to limit ourselves in this way.\n",
    "\n",
    "Let's take another high-level view at our data:"
   ]
  },
  {
   "cell_type": "code",
   "execution_count": 26,
   "id": "variable-academy",
   "metadata": {},
   "outputs": [
    {
     "data": {
      "text/html": [
       "<div>\n",
       "<style scoped>\n",
       "    .dataframe tbody tr th:only-of-type {\n",
       "        vertical-align: middle;\n",
       "    }\n",
       "\n",
       "    .dataframe tbody tr th {\n",
       "        vertical-align: top;\n",
       "    }\n",
       "\n",
       "    .dataframe thead th {\n",
       "        text-align: right;\n",
       "    }\n",
       "</style>\n",
       "<table border=\"1\" class=\"dataframe\">\n",
       "  <thead>\n",
       "    <tr style=\"text-align: right;\">\n",
       "      <th></th>\n",
       "      <th>Population</th>\n",
       "      <th>CO2_tons_per_capita</th>\n",
       "      <th>Primary_completion_female</th>\n",
       "      <th>Primary_completion_male</th>\n",
       "      <th>LowSecondary_completion_female</th>\n",
       "      <th>LowSecondary_completion_male</th>\n",
       "      <th>pct_Women_in_Parliament</th>\n",
       "      <th>Broadband_subscs_per1k</th>\n",
       "      <th>MobileCell_subscs_per1k</th>\n",
       "      <th>GDP_per_capita_USD</th>\n",
       "      <th>GNI_per_capita_USD</th>\n",
       "      <th>Life_expectancy</th>\n",
       "    </tr>\n",
       "  </thead>\n",
       "  <tbody>\n",
       "    <tr>\n",
       "      <th>count</th>\n",
       "      <td>2.160000e+02</td>\n",
       "      <td>217.000000</td>\n",
       "      <td>133.000000</td>\n",
       "      <td>133.000000</td>\n",
       "      <td>123.000000</td>\n",
       "      <td>123.000000</td>\n",
       "      <td>192.000000</td>\n",
       "      <td>205.000000</td>\n",
       "      <td>207.000000</td>\n",
       "      <td>193.000000</td>\n",
       "      <td>192.00000</td>\n",
       "      <td>201.000000</td>\n",
       "    </tr>\n",
       "    <tr>\n",
       "      <th>mean</th>\n",
       "      <td>3.424723e+07</td>\n",
       "      <td>4.463764</td>\n",
       "      <td>92.052718</td>\n",
       "      <td>92.489008</td>\n",
       "      <td>81.361217</td>\n",
       "      <td>79.591794</td>\n",
       "      <td>20.888705</td>\n",
       "      <td>134.793136</td>\n",
       "      <td>1082.418611</td>\n",
       "      <td>20410.344154</td>\n",
       "      <td>19497.18750</td>\n",
       "      <td>72.320944</td>\n",
       "    </tr>\n",
       "    <tr>\n",
       "      <th>std</th>\n",
       "      <td>1.347982e+08</td>\n",
       "      <td>5.942907</td>\n",
       "      <td>16.444161</td>\n",
       "      <td>14.688918</td>\n",
       "      <td>25.905601</td>\n",
       "      <td>24.162610</td>\n",
       "      <td>12.018829</td>\n",
       "      <td>137.394806</td>\n",
       "      <td>405.034828</td>\n",
       "      <td>20933.463853</td>\n",
       "      <td>19444.76956</td>\n",
       "      <td>7.749837</td>\n",
       "    </tr>\n",
       "    <tr>\n",
       "      <th>min</th>\n",
       "      <td>1.122500e+04</td>\n",
       "      <td>0.000000</td>\n",
       "      <td>32.834202</td>\n",
       "      <td>48.877022</td>\n",
       "      <td>7.635840</td>\n",
       "      <td>11.978990</td>\n",
       "      <td>0.000000</td>\n",
       "      <td>0.000000</td>\n",
       "      <td>142.486031</td>\n",
       "      <td>796.944387</td>\n",
       "      <td>800.00000</td>\n",
       "      <td>51.593000</td>\n",
       "    </tr>\n",
       "    <tr>\n",
       "      <th>25%</th>\n",
       "      <td>7.627018e+05</td>\n",
       "      <td>0.595648</td>\n",
       "      <td>89.022141</td>\n",
       "      <td>89.599998</td>\n",
       "      <td>66.612473</td>\n",
       "      <td>65.939972</td>\n",
       "      <td>12.302328</td>\n",
       "      <td>7.479557</td>\n",
       "      <td>843.347300</td>\n",
       "      <td>4692.575942</td>\n",
       "      <td>4672.50000</td>\n",
       "      <td>67.175000</td>\n",
       "    </tr>\n",
       "    <tr>\n",
       "      <th>50%</th>\n",
       "      <td>6.424154e+06</td>\n",
       "      <td>2.495571</td>\n",
       "      <td>97.593224</td>\n",
       "      <td>96.522697</td>\n",
       "      <td>90.642464</td>\n",
       "      <td>87.019386</td>\n",
       "      <td>19.873534</td>\n",
       "      <td>87.520416</td>\n",
       "      <td>1107.610325</td>\n",
       "      <td>12632.013530</td>\n",
       "      <td>12315.00000</td>\n",
       "      <td>73.836000</td>\n",
       "    </tr>\n",
       "    <tr>\n",
       "      <th>75%</th>\n",
       "      <td>2.384867e+07</td>\n",
       "      <td>5.948891</td>\n",
       "      <td>101.701843</td>\n",
       "      <td>100.746208</td>\n",
       "      <td>98.956196</td>\n",
       "      <td>97.036179</td>\n",
       "      <td>29.580868</td>\n",
       "      <td>237.981622</td>\n",
       "      <td>1286.413258</td>\n",
       "      <td>28319.247010</td>\n",
       "      <td>27200.00000</td>\n",
       "      <td>77.964000</td>\n",
       "    </tr>\n",
       "    <tr>\n",
       "      <th>max</th>\n",
       "      <td>1.378665e+09</td>\n",
       "      <td>38.901471</td>\n",
       "      <td>133.333328</td>\n",
       "      <td>128.703705</td>\n",
       "      <td>116.886810</td>\n",
       "      <td>116.486862</td>\n",
       "      <td>63.750000</td>\n",
       "      <td>488.941424</td>\n",
       "      <td>3214.514160</td>\n",
       "      <td>115698.059200</td>\n",
       "      <td>107330.00000</td>\n",
       "      <td>84.226829</td>\n",
       "    </tr>\n",
       "  </tbody>\n",
       "</table>\n",
       "</div>"
      ],
      "text/plain": [
       "         Population  CO2_tons_per_capita  Primary_completion_female  \\\n",
       "count  2.160000e+02           217.000000                 133.000000   \n",
       "mean   3.424723e+07             4.463764                  92.052718   \n",
       "std    1.347982e+08             5.942907                  16.444161   \n",
       "min    1.122500e+04             0.000000                  32.834202   \n",
       "25%    7.627018e+05             0.595648                  89.022141   \n",
       "50%    6.424154e+06             2.495571                  97.593224   \n",
       "75%    2.384867e+07             5.948891                 101.701843   \n",
       "max    1.378665e+09            38.901471                 133.333328   \n",
       "\n",
       "       Primary_completion_male  LowSecondary_completion_female  \\\n",
       "count               133.000000                      123.000000   \n",
       "mean                 92.489008                       81.361217   \n",
       "std                  14.688918                       25.905601   \n",
       "min                  48.877022                        7.635840   \n",
       "25%                  89.599998                       66.612473   \n",
       "50%                  96.522697                       90.642464   \n",
       "75%                 100.746208                       98.956196   \n",
       "max                 128.703705                      116.886810   \n",
       "\n",
       "       LowSecondary_completion_male  pct_Women_in_Parliament  \\\n",
       "count                    123.000000               192.000000   \n",
       "mean                      79.591794                20.888705   \n",
       "std                       24.162610                12.018829   \n",
       "min                       11.978990                 0.000000   \n",
       "25%                       65.939972                12.302328   \n",
       "50%                       87.019386                19.873534   \n",
       "75%                       97.036179                29.580868   \n",
       "max                      116.486862                63.750000   \n",
       "\n",
       "       Broadband_subscs_per1k  MobileCell_subscs_per1k  GDP_per_capita_USD  \\\n",
       "count              205.000000               207.000000          193.000000   \n",
       "mean               134.793136              1082.418611        20410.344154   \n",
       "std                137.394806               405.034828        20933.463853   \n",
       "min                  0.000000               142.486031          796.944387   \n",
       "25%                  7.479557               843.347300         4692.575942   \n",
       "50%                 87.520416              1107.610325        12632.013530   \n",
       "75%                237.981622              1286.413258        28319.247010   \n",
       "max                488.941424              3214.514160       115698.059200   \n",
       "\n",
       "       GNI_per_capita_USD  Life_expectancy  \n",
       "count           192.00000       201.000000  \n",
       "mean          19497.18750        72.320944  \n",
       "std           19444.76956         7.749837  \n",
       "min             800.00000        51.593000  \n",
       "25%            4672.50000        67.175000  \n",
       "50%           12315.00000        73.836000  \n",
       "75%           27200.00000        77.964000  \n",
       "max          107330.00000        84.226829  "
      ]
     },
     "execution_count": 26,
     "metadata": {},
     "output_type": "execute_result"
    }
   ],
   "source": [
    "df.describe()"
   ]
  },
  {
   "cell_type": "markdown",
   "id": "coral-backup",
   "metadata": {},
   "source": [
    "Let's use the rate of primary-school completion for females, gross national income (GNI), broadband subscriptions, and CO<sub>2</sub> emissions, to predict **life expectancy**.\n",
    "\n",
    "We first define a dataframe with the desired columns, keeping the country for reference, and we drop its empty values (`NaN`s):"
   ]
  },
  {
   "cell_type": "code",
   "execution_count": 27,
   "id": "characteristic-replica",
   "metadata": {},
   "outputs": [
    {
     "data": {
      "text/html": [
       "<div>\n",
       "<style scoped>\n",
       "    .dataframe tbody tr th:only-of-type {\n",
       "        vertical-align: middle;\n",
       "    }\n",
       "\n",
       "    .dataframe tbody tr th {\n",
       "        vertical-align: top;\n",
       "    }\n",
       "\n",
       "    .dataframe thead th {\n",
       "        text-align: right;\n",
       "    }\n",
       "</style>\n",
       "<table border=\"1\" class=\"dataframe\">\n",
       "  <thead>\n",
       "    <tr style=\"text-align: right;\">\n",
       "      <th></th>\n",
       "      <th>Country</th>\n",
       "      <th>Primary_completion_female</th>\n",
       "      <th>Broadband_subscs_per1k</th>\n",
       "      <th>GNI_per_capita_USD</th>\n",
       "      <th>CO2_tons_per_capita</th>\n",
       "      <th>Life_expectancy</th>\n",
       "    </tr>\n",
       "  </thead>\n",
       "  <tbody>\n",
       "    <tr>\n",
       "      <th>0</th>\n",
       "      <td>Afghanistan</td>\n",
       "      <td>63.604069</td>\n",
       "      <td>0.248734</td>\n",
       "      <td>2000.0</td>\n",
       "      <td>0.245101</td>\n",
       "      <td>63.763000</td>\n",
       "    </tr>\n",
       "    <tr>\n",
       "      <th>1</th>\n",
       "      <td>Albania</td>\n",
       "      <td>102.297653</td>\n",
       "      <td>92.618097</td>\n",
       "      <td>12200.0</td>\n",
       "      <td>1.577163</td>\n",
       "      <td>78.194000</td>\n",
       "    </tr>\n",
       "    <tr>\n",
       "      <th>2</th>\n",
       "      <td>Algeria</td>\n",
       "      <td>105.560043</td>\n",
       "      <td>70.517164</td>\n",
       "      <td>11510.0</td>\n",
       "      <td>3.699156</td>\n",
       "      <td>76.298000</td>\n",
       "    </tr>\n",
       "    <tr>\n",
       "      <th>7</th>\n",
       "      <td>Argentina</td>\n",
       "      <td>104.334892</td>\n",
       "      <td>165.704726</td>\n",
       "      <td>19860.0</td>\n",
       "      <td>4.619085</td>\n",
       "      <td>76.221000</td>\n",
       "    </tr>\n",
       "    <tr>\n",
       "      <th>8</th>\n",
       "      <td>Armenia</td>\n",
       "      <td>91.668579</td>\n",
       "      <td>101.892072</td>\n",
       "      <td>10950.0</td>\n",
       "      <td>1.755976</td>\n",
       "      <td>74.640000</td>\n",
       "    </tr>\n",
       "    <tr>\n",
       "      <th>...</th>\n",
       "      <td>...</td>\n",
       "      <td>...</td>\n",
       "      <td>...</td>\n",
       "      <td>...</td>\n",
       "      <td>...</td>\n",
       "      <td>...</td>\n",
       "    </tr>\n",
       "    <tr>\n",
       "      <th>205</th>\n",
       "      <td>United Kingdom</td>\n",
       "      <td>100.823151</td>\n",
       "      <td>387.821707</td>\n",
       "      <td>43070.0</td>\n",
       "      <td>5.776796</td>\n",
       "      <td>81.156098</td>\n",
       "    </tr>\n",
       "    <tr>\n",
       "      <th>207</th>\n",
       "      <td>Uruguay</td>\n",
       "      <td>104.321251</td>\n",
       "      <td>269.170990</td>\n",
       "      <td>19650.0</td>\n",
       "      <td>1.975863</td>\n",
       "      <td>77.498000</td>\n",
       "    </tr>\n",
       "    <tr>\n",
       "      <th>208</th>\n",
       "      <td>Uzbekistan</td>\n",
       "      <td>96.440224</td>\n",
       "      <td>86.233629</td>\n",
       "      <td>6530.0</td>\n",
       "      <td>2.882786</td>\n",
       "      <td>71.171000</td>\n",
       "    </tr>\n",
       "    <tr>\n",
       "      <th>211</th>\n",
       "      <td>Vietnam</td>\n",
       "      <td>106.889603</td>\n",
       "      <td>97.067641</td>\n",
       "      <td>6300.0</td>\n",
       "      <td>2.057566</td>\n",
       "      <td>75.172000</td>\n",
       "    </tr>\n",
       "    <tr>\n",
       "      <th>213</th>\n",
       "      <td>West Bank and Gaza</td>\n",
       "      <td>97.022377</td>\n",
       "      <td>73.389865</td>\n",
       "      <td>7080.0</td>\n",
       "      <td>0.740607</td>\n",
       "      <td>73.589000</td>\n",
       "    </tr>\n",
       "  </tbody>\n",
       "</table>\n",
       "<p>121 rows × 6 columns</p>\n",
       "</div>"
      ],
      "text/plain": [
       "                Country  Primary_completion_female  Broadband_subscs_per1k  \\\n",
       "0           Afghanistan                  63.604069                0.248734   \n",
       "1               Albania                 102.297653               92.618097   \n",
       "2               Algeria                 105.560043               70.517164   \n",
       "7             Argentina                 104.334892              165.704726   \n",
       "8               Armenia                  91.668579              101.892072   \n",
       "..                  ...                        ...                     ...   \n",
       "205      United Kingdom                 100.823151              387.821707   \n",
       "207             Uruguay                 104.321251              269.170990   \n",
       "208          Uzbekistan                  96.440224               86.233629   \n",
       "211             Vietnam                 106.889603               97.067641   \n",
       "213  West Bank and Gaza                  97.022377               73.389865   \n",
       "\n",
       "     GNI_per_capita_USD  CO2_tons_per_capita  Life_expectancy  \n",
       "0                2000.0             0.245101        63.763000  \n",
       "1               12200.0             1.577163        78.194000  \n",
       "2               11510.0             3.699156        76.298000  \n",
       "7               19860.0             4.619085        76.221000  \n",
       "8               10950.0             1.755976        74.640000  \n",
       "..                  ...                  ...              ...  \n",
       "205             43070.0             5.776796        81.156098  \n",
       "207             19650.0             1.975863        77.498000  \n",
       "208              6530.0             2.882786        71.171000  \n",
       "211              6300.0             2.057566        75.172000  \n",
       "213              7080.0             0.740607        73.589000  \n",
       "\n",
       "[121 rows x 6 columns]"
      ]
     },
     "execution_count": 27,
     "metadata": {},
     "output_type": "execute_result"
    }
   ],
   "source": [
    "xcols = ['Primary_completion_female', 'Broadband_subscs_per1k', 'GNI_per_capita_USD', 'CO2_tons_per_capita']\n",
    "ycol = 'Life_expectancy'\n",
    "dfr = df[ ['Country'] + xcols + [ycol] ]\n",
    "dfr = dfr.dropna(how='any')\n",
    "dfr"
   ]
  },
  {
   "cell_type": "markdown",
   "id": "funny-suspension",
   "metadata": {},
   "source": [
    "Only 121 countries out of the original 217 have data for all the desired columns. It's always worth noting how much we lose by filtering (maybe we should remove some columns to increase coverage)."
   ]
  },
  {
   "cell_type": "markdown",
   "id": "proved-worst",
   "metadata": {},
   "source": [
    "Creating the model itself is rather easy and similar to doing it with a single predictor:"
   ]
  },
  {
   "cell_type": "code",
   "execution_count": 28,
   "id": "sexual-conservation",
   "metadata": {},
   "outputs": [
    {
     "data": {
      "text/plain": [
       "LinearRegression()"
      ]
     },
     "execution_count": 28,
     "metadata": {},
     "output_type": "execute_result"
    }
   ],
   "source": [
    "# We again first declare an instance of the model\n",
    "linreg = LinearRegression(fit_intercept=True)\n",
    "\n",
    "# Then we rearrange the columns to the desired numpy format\n",
    "X = dfr.loc[:, xcols].values # note the uppercase X\n",
    "y = dfr.loc[:, ycol].values\n",
    "\n",
    "# Fit the model to the data\n",
    "linreg.fit(X, y)"
   ]
  },
  {
   "cell_type": "markdown",
   "id": "fourth-nightmare",
   "metadata": {},
   "source": [
    "Note that we are now using uppercase `X`, as opposed to lowercase `x` above. Uppercase `X` and lowercase `y` is traditional usage in machine learning circles (at least in Python), meant to signal that there are _many_ predictors for _one_ outcome.\n",
    "\n",
    "Other than this, by convention, Python variables should always be named with starting lowercase unless you have very good reason to do otherwise."
   ]
  },
  {
   "cell_type": "markdown",
   "id": "fitting-campbell",
   "metadata": {},
   "source": [
    "We can now take a look at the coefficient (slope):"
   ]
  },
  {
   "cell_type": "code",
   "execution_count": 29,
   "id": "packed-ethnic",
   "metadata": {},
   "outputs": [
    {
     "name": "stdout",
     "output_type": "stream",
     "text": [
      "[ 1.95601889e-01  2.10165853e-02  1.08880235e-04 -2.75834830e-02]\n"
     ]
    }
   ],
   "source": [
    "print(linreg.coef_)"
   ]
  },
  {
   "cell_type": "markdown",
   "id": "traditional-stuff",
   "metadata": {},
   "source": [
    "It turns out we don't have a single coefficient this time, but `4`, since we used that many predictors. We measly humans with our flat brains cannot visualise that, so we won't bother trying to plot it, but we can certainly check how good the fit is:"
   ]
  },
  {
   "cell_type": "code",
   "execution_count": 30,
   "id": "floating-train",
   "metadata": {},
   "outputs": [
    {
     "name": "stdout",
     "output_type": "stream",
     "text": [
      "The r2 is 0.7606104012483202\n"
     ]
    }
   ],
   "source": [
    "print(f\"The r2 is {linreg.score(X, y)}\")"
   ]
  },
  {
   "cell_type": "markdown",
   "id": "conventional-looking",
   "metadata": {},
   "source": [
    "That's a rather decent r<sup>2</sup>... but do remember that life expectancy should not grow linearly (as far as we know anyway), so linear regression is probably not a great model for it. We measly humans are bound to perish (it seems), so we can't just extend our lives endlessly by simply pumping more CO<sub>2</sub> into the atmosphere, whatever our model may say... not that this will stop us trying to pump CO<sub>2</sub> into the atmosphere, but anyway.\n",
    "\n",
    "However, what exactly is each of the four predictors doing for our model? We may need to take some of them out and see if our ability to predict remains similar (e.g., I suggest you try dropping the CO<sub>2</sub> emissions). We can also do more advanced statistical analyses to gauge the influence of each of our predictors.\n",
    "\n",
    "There is a wide world of possibilities just with this one linear regression, and of course there is far more that can be done with scikit-learn. I hope this notebook has given you a useful introduction."
   ]
  }
 ],
 "metadata": {
  "kernelspec": {
   "display_name": "Python 3",
   "language": "python",
   "name": "python3"
  },
  "language_info": {
   "codemirror_mode": {
    "name": "ipython",
    "version": 3
   },
   "file_extension": ".py",
   "mimetype": "text/x-python",
   "name": "python",
   "nbconvert_exporter": "python",
   "pygments_lexer": "ipython3",
   "version": "3.9.1"
  }
 },
 "nbformat": 4,
 "nbformat_minor": 5
}
