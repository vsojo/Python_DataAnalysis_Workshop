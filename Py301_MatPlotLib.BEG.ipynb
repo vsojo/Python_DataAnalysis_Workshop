{
 "cells": [
  {
   "cell_type": "markdown",
   "metadata": {},
   "source": [
    "# A brief introduction to plotting in `matplotlib`\n",
    "(Víctor Sojo | vsojo@amnh.org)\n",
    "\n",
    "Here we will briefly introduce plotting in `matplotlib` under the `pyplot` tool, which behaves very much like Matlab.\n",
    "\n",
    "There are other ways of plotting in `matplotlib`, but the Matlab-like format of `pyplot` is pretty straightforward and I would recommend it.\n",
    "\n",
    "\n",
    "**References:**\n",
    "+ The [Matplotlib Pyplot tutorial](https://matplotlib.org/3.1.1/tutorials/introductory/pyplot.html)."
   ]
  },
  {
   "cell_type": "markdown",
   "metadata": {},
   "source": [
    "## Contents\n",
    "\n",
    "&emsp;[Getting started](#Getting-started)<br/>\n",
    "&emsp;&emsp;[Importing required libraries](#Importing-required-libraries)<br/>\n",
    "&emsp;[The simplest matplotlib plot](#The-simplest-matplotlib-plot)<br/>\n",
    "&emsp;[Axis names, plot title and legend](#Axis-names,-plot-title-and-legend)<br/>\n",
    "&emsp;[Changing the point and line styles \\(colours, dashes, point markers\\)](#Changing-the-point-and-line-styles-\\(colours,-dashes,-point-markers\\))<br/>\n",
    "&emsp;[Multiple curves in the same plot](#Multiple-curves-in-the-same-plot)<br/>\n",
    "&emsp;[Multiple subplots](#Multiple-subplots)<br/>\n",
    "&emsp;[Changing x and y limits](#Changing-x-and-y-limits)<br/>\n",
    "&emsp;[Horizontal and vertical lines](#Horizontal-and-vertical-lines)<br/>\n",
    "&emsp;[Other types of plot](#Other-types-of-plot)<br/>\n",
    "&emsp;[Exporting plots to files](#Exporting-plots-to-files)<br/>\n",
    "&emsp;[Better than matplotlib...](#Better-than-matplotlib...)<br/>\n",
    "&emsp;&emsp;[Should I use Seaborn \\(sns\\)? No – use Plotly instead](#Should-I-use-Seaborn-\\(sns\\)?-No-–-use-Plotly-instead)<br/>\n",
    "&emsp;&emsp;[Plotting in R+ggplot](#Plotting-in-R+ggplot)<br/>\n",
    "&emsp;[Troubleshooting matplotlib](#Troubleshooting-matplotlib)<br/>"
   ]
  },
  {
   "cell_type": "markdown",
   "metadata": {},
   "source": [
    "## Getting started\n",
    "As customary, let's make sure that we're using the `bioinfo` environment that we created in the `Py201` notebook:"
   ]
  },
  {
   "cell_type": "code",
   "execution_count": null,
   "metadata": {},
   "outputs": [],
   "source": []
  },
  {
   "cell_type": "markdown",
   "metadata": {},
   "source": [
    "You should see `bioinfo` being printed out.\n",
    "\n",
    "If you're on Windows, remember that every line starting with a `!`, such as `!my code` should be changed to `!wsl my code` and you should have an active [WSL installation](https://docs.microsoft.com/en-us/windows/wsl/install-win10))."
   ]
  },
  {
   "cell_type": "markdown",
   "metadata": {},
   "source": [
    "### Importing required libraries\n",
    "We will need:\n",
    "\n",
    "Module        | Use\n",
    ":-------------|:-----------------------------------------\n",
    "**matplotlib.pyplot**  | To plot figures using Python's main plotting tool\n",
    "**%matplotlib inline** | Tells Jupyter to send plots to the cells directly, so that we can see them"
   ]
  },
  {
   "cell_type": "code",
   "execution_count": null,
   "metadata": {},
   "outputs": [],
   "source": []
  },
  {
   "cell_type": "markdown",
   "metadata": {},
   "source": [
    "Note that we're giving `pyplot` an **alias** of `plt`. This is completely unnecessary but extremely common for some reason. Hardly anybody uses it any other way, so just get used to it."
   ]
  },
  {
   "cell_type": "markdown",
   "metadata": {},
   "source": [
    "## The simplest `matplotlib` plot"
   ]
  },
  {
   "cell_type": "code",
   "execution_count": null,
   "metadata": {},
   "outputs": [],
   "source": []
  },
  {
   "cell_type": "markdown",
   "metadata": {},
   "source": [
    "And that's it. Great, isn't it?\n",
    "\n",
    "As you can see, `matplotlib` defaults to the Y axis if you give it only a single list. But if we give it two, it logically reads them as `x` and `y`:"
   ]
  },
  {
   "cell_type": "code",
   "execution_count": null,
   "metadata": {},
   "outputs": [],
   "source": []
  },
  {
   "cell_type": "markdown",
   "metadata": {},
   "source": [
    "Naturally, we can also use variables. Let's create a list of even numbers between 0 and 20, and calculate their cubes.\n",
    "\n",
    "(Note: We will use **list comprehensions**, which we covered both in the [Python Workshop](https://github.com/vsojo/Python_Workshop/) and the [Python Refresher](https://github.com/vsojo/Python_Workshop/blob/master/JupyIntro_PythonRefresher.tar.gz))"
   ]
  },
  {
   "cell_type": "code",
   "execution_count": null,
   "metadata": {},
   "outputs": [],
   "source": []
  },
  {
   "cell_type": "markdown",
   "metadata": {},
   "source": [
    "And now plot:"
   ]
  },
  {
   "cell_type": "code",
   "execution_count": null,
   "metadata": {},
   "outputs": [],
   "source": []
  },
  {
   "cell_type": "markdown",
   "metadata": {},
   "source": [
    "## Axis names, plot title and legend\n",
    "These are all straightforward to add:"
   ]
  },
  {
   "cell_type": "code",
   "execution_count": null,
   "metadata": {},
   "outputs": [],
   "source": []
  },
  {
   "cell_type": "markdown",
   "metadata": {},
   "source": [
    "You can change the size of the text, the position of the legend, and so on. We won't cover that here, it's very easy to find online."
   ]
  },
  {
   "cell_type": "markdown",
   "metadata": {},
   "source": [
    "## Changing the point and line styles (colours, dashes, point markers)\n",
    "This is slightly more involved:"
   ]
  },
  {
   "cell_type": "code",
   "execution_count": null,
   "metadata": {},
   "outputs": [],
   "source": []
  },
  {
   "cell_type": "markdown",
   "metadata": {},
   "source": [
    "The `'r^-.'` in the third position tells `matplotlib` to use red triangles joined by dashes and dots. Similarly, `'bo-'` would mean \"blue circles joined by a solid line, and `'g^--'` means \"green triangles joined by a dashed line\", `'ys:'` means \"yellow squares, dotted line\", and so on.\n",
    "\n",
    "Remember that the following three attributes, if specified, must be given in the right order:\n",
    "1. The X values.\n",
    "2. The Y values.\n",
    "3. The style of the curve and points.\n",
    "\n",
    "The single-letter colour works fine for the 7 basic computer colours: `r`ed, `g`reen, `b`lue, `c`yan, `m`agenta, `y`ellow, and blac`k`. But if you want to use a different colour, you can leave out the colour and sapecify it on its own afterwards:"
   ]
  },
  {
   "cell_type": "code",
   "execution_count": null,
   "metadata": {},
   "outputs": [],
   "source": []
  },
  {
   "cell_type": "markdown",
   "metadata": {},
   "source": [
    "This uses the traditional [list of named `CSS` colours](https://matplotlib.org/3.1.0/gallery/color/named_colors.html) ubiquitous on the Internet.\n",
    "\n",
    "You can specify an `#RGB` hex value instead:"
   ]
  },
  {
   "cell_type": "code",
   "execution_count": null,
   "metadata": {},
   "outputs": [],
   "source": []
  },
  {
   "cell_type": "markdown",
   "metadata": {},
   "source": [
    "## Multiple curves in the same plot\n",
    "Easily done:"
   ]
  },
  {
   "cell_type": "code",
   "execution_count": null,
   "metadata": {},
   "outputs": [],
   "source": []
  },
  {
   "cell_type": "markdown",
   "metadata": {},
   "source": [
    "Actually, I find that pretty confusing; it's hard to tell what belongs with what.\n",
    "\n",
    "What's happening above is we specified each set of data in pairs (`x` and `y`). But we can make use of the fact that Python doesn't care about indentation inside a `( )` block to produce longer but much more readable code:"
   ]
  },
  {
   "cell_type": "code",
   "execution_count": null,
   "metadata": {},
   "outputs": [],
   "source": []
  },
  {
   "cell_type": "markdown",
   "metadata": {},
   "source": [
    "(here we added point markers)\n",
    "\n",
    "Or if you find it clearer, you could simply send each curve to `plt` independently:"
   ]
  },
  {
   "cell_type": "code",
   "execution_count": null,
   "metadata": {},
   "outputs": [],
   "source": []
  },
  {
   "cell_type": "markdown",
   "metadata": {},
   "source": [
    "Personally, I find this last method clearest of all, and it's also safest because the legend is always bound to its data, as opposed to being added afterwards.\n",
    "\n",
    "Do note that there are plenty of choices for plotting (many more than I'm showing here)."
   ]
  },
  {
   "cell_type": "markdown",
   "metadata": {},
   "source": [
    "## Multiple subplots\n",
    "You can have multiple sub-plots grouped together. Let's start by creating some dummy data:"
   ]
  },
  {
   "cell_type": "code",
   "execution_count": null,
   "metadata": {},
   "outputs": [],
   "source": []
  },
  {
   "cell_type": "markdown",
   "metadata": {},
   "source": [
    "Now let's plot each of these in Y, versus the linear one (`pow1`) in X:"
   ]
  },
  {
   "cell_type": "code",
   "execution_count": null,
   "metadata": {},
   "outputs": [],
   "source": []
  },
  {
   "cell_type": "markdown",
   "metadata": {},
   "source": [
    "The above is, of course, horrible code. We should have created a for loop instead, but this will do for now.\n",
    "\n",
    "The significant bit here is the number given to subplot. The first digit is the number of rows (2), then comes the number of columns (3), and then which plot you're trying to acces, say, for the 5th one, that would be `235`. Note that here the count does start at `1`, not `0`.\n",
    "\n",
    "Another new thing here is that we specified the size of the figure above. You can always do that if the size is not working for you.\n",
    "I didn't add titles or legends or anything like that because I wanted to keep the example simple, but the same properties apply here."
   ]
  },
  {
   "cell_type": "markdown",
   "metadata": {},
   "source": [
    "## Changing x and y limits\n",
    "These can be controlled very easily. Assuming you still have the data in the previous section defined (otherwise go above and run the first cell where the `pow#` variables are defined):"
   ]
  },
  {
   "cell_type": "code",
   "execution_count": null,
   "metadata": {},
   "outputs": [],
   "source": []
  },
  {
   "cell_type": "markdown",
   "metadata": {},
   "source": [
    "## Horizontal and vertical lines\n",
    "`matplotlib.pyplot` has (at least) two methods for plotting horizontal lines:\n",
    "+ `axhline()` Makes infinite lines. It takes a single required parameter: which is the `y` value at which the line will be drawn.\n",
    "+ `hlines()` Makes partial lines. It needs three parameters: the `y` position(s), and the values of `xstart` and `xend` at which the horizontal line should start and end.\n",
    "\n",
    "The same applies to vertical lines, for the corresponding functions `axvline()` and `vlines()`."
   ]
  },
  {
   "cell_type": "code",
   "execution_count": null,
   "metadata": {},
   "outputs": [],
   "source": []
  },
  {
   "cell_type": "markdown",
   "metadata": {},
   "source": [
    "As you can see, the `hlines` and `vlines` functions can take either a single value or a list in their first position. If a list is given, lines are drawn at all of those values."
   ]
  },
  {
   "cell_type": "markdown",
   "metadata": {},
   "source": [
    "## Other types of plot\n",
    "This is not a lesson on plotting, but on using `matplotlib`. There are a myriad more things you can do with `matplotlib` that I haven't even bothered mentioning here, things like **boxplots**, **bar graphs**, **histograms**, **pie charts** (but _should you_?), **heat maps**, **3-D plots**, and much more. Here, I only wanted to expose you to the `matplotlib` syntax, so that you can go on your own and explore the other types... except pie chart... nobody should use them things.\n",
    "\n",
    "Actually, I'll demonstrate that with an example:"
   ]
  },
  {
   "cell_type": "code",
   "execution_count": null,
   "metadata": {},
   "outputs": [],
   "source": []
  },
  {
   "cell_type": "markdown",
   "metadata": {},
   "source": [
    "Whatever you do, **NEVER EVER use 3-D perspective in a pie chart**. It becomes impossible to judge whether a thing that looks small is really small or only far away."
   ]
  },
  {
   "cell_type": "markdown",
   "metadata": {},
   "source": [
    "## Exporting plots to files\n",
    "Easily done by using the pyplot method `.savefig()`, whose description is on their website as:\n",
    "```python\n",
    "savefig(fname, dpi=None, facecolor='w', edgecolor='w',\n",
    "        orientation='portrait', papertype=None, format=None,\n",
    "        transparent=False, bbox_inches=None, pad_inches=0.1,\n",
    "        frameon=None, metadata=None)\n",
    "```\n",
    "Here's a simple example using the same details as in the last plot:"
   ]
  },
  {
   "cell_type": "code",
   "execution_count": null,
   "metadata": {},
   "outputs": [],
   "source": []
  },
  {
   "cell_type": "markdown",
   "metadata": {},
   "source": [
    "In my case at least, the figure is cut off in the PDF, even though it shows fine here in Jupyter. However, if I open the PDF on Inkscape, I can see the full text, so one easy solution would be to resize the canvas there if you're familiar with Inkscape.\n",
    "\n",
    "A more elegant option is to make a tight-fitting box:"
   ]
  },
  {
   "cell_type": "code",
   "execution_count": null,
   "metadata": {},
   "outputs": [],
   "source": []
  },
  {
   "cell_type": "markdown",
   "metadata": {},
   "source": [
    "## Better than `matplotlib`...\n",
    "### Should I use Seaborn (`sns`)? No – use Plotly instead\n",
    "Many people use a library called Seaborn, typically aliased to `sns`, which provides a wrapper to `matplotlib`. It's all the rage with many geeks, but I can't say I have seen much of an advantage over simple `matplotlib`, so I don't think it's worth the effort of learning yet another syntax.\n",
    "\n",
    "Just use `matplotlib` for the kind of basic plotting we did above. And if you really want a fancier plot (e.g. one that can be zoomed into and in which each dot has a pop-up legend), I suggest you skip Seaborn altogether and try [**Plotly**](https://plotly.com/python/) instead.\n",
    "\n",
    "**Warning:** Plotly is distributed by a for-profit company that want to sell you something they call \"Dash\"; they keep pushing it every chance they get, often making you feel that Plotly won't work unless you also have Dash (it will!). **You do not need Dash**. Plotly is free and open source. Just ignore anything that says \"Dash\" on their website.\n",
    "\n",
    "### Plotting in R+`ggplot`\n",
    "We will see in the notebook about **Interfacing with R** that you can also use R's plotting methods in Jupyter, including `ggplot`."
   ]
  },
  {
   "cell_type": "markdown",
   "metadata": {},
   "source": [
    "## Troubleshooting `matplotlib`\n",
    "Sometimes, `matplotlib` behaves very strangely. For example, during the preparation of this document I lost over an hour trying to solve a bug that wasn't a bug. It was just that `matplotlib` had gone a little crazy and was refusing to recognise one of its own methods. In my case, that was `.xlim()` and `.ylim()`, Python kept telling me that:\n",
    "```bash\n",
    "AttributeError: module 'matplotlib.pyplot' has no attribute 'xlim'\n",
    "```\n",
    "\n",
    "After quite a bit of searching through their official website, I found the answer on StackOverflow instead (the programmer's second best friend after the `print` statement).\n",
    "\n",
    "If some strange irresolvable bug like this happens to you, I recommend you:\n",
    "1. Update all of your conda:\n",
    "```bash\n",
    "conda update --all -y\n",
    "```\n",
    "2. Restart Jupyter entirely, try again and see if that solves it.\n",
    "3. If it still doesn't work, remove `matplotlib`:\n",
    "```bash\n",
    "conda uninstall matplotlib -y\n",
    "```\n",
    "4. And re-install it:\n",
    "```bash\n",
    "conda install matplotlib -y\n",
    "```\n",
    "\n",
    "You can do all of it from within Jupyter (Mac and Linux), remembering to add `!` at the beginning of each line so that it is executed by the terminal (bash/zsh)."
   ]
  }
 ],
 "metadata": {
  "kernelspec": {
   "display_name": "Python 3",
   "language": "python",
   "name": "python3"
  },
  "language_info": {
   "codemirror_mode": {
    "name": "ipython",
    "version": 3
   },
   "file_extension": ".py",
   "mimetype": "text/x-python",
   "name": "python",
   "nbconvert_exporter": "python",
   "pygments_lexer": "ipython3",
   "version": "3.9.1"
  }
 },
 "nbformat": 4,
 "nbformat_minor": 4
}
